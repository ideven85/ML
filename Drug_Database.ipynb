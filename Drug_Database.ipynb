{
 "cells": [
  {
   "cell_type": "code",
   "execution_count": 24,
   "id": "deccea67-9e4b-4f6b-8228-4f3ead14b9be",
   "metadata": {},
   "outputs": [],
   "source": [
    "def factorial(n):\n",
    "    return 1 if n<2 else n*factorial(n-1)\n",
    "    "
   ]
  },
  {
   "cell_type": "code",
   "execution_count": 25,
   "id": "d972de77-7caf-45d3-9f71-e80261753d39",
   "metadata": {},
   "outputs": [
    {
     "name": "stdout",
     "output_type": "stream",
     "text": [
      "25.3 µs ± 248 ns per loop (mean ± std. dev. of 7 runs, 10,000 loops each)\n"
     ]
    }
   ],
   "source": [
    "%timeit factorial(45)"
   ]
  },
  {
   "cell_type": "code",
   "execution_count": 26,
   "id": "0ccff5ae-50fe-4f30-91e9-e56d7734f53e",
   "metadata": {},
   "outputs": [],
   "source": [
    "def fib(n):\n",
    "    return 1 if n<2 else fib(n-1)+fib(n-2)"
   ]
  },
  {
   "cell_type": "code",
   "execution_count": 27,
   "id": "804fbe03-8cab-4d1b-b71c-5f632bc79558",
   "metadata": {},
   "outputs": [
    {
     "data": {
      "text/plain": [
       "89"
      ]
     },
     "execution_count": 27,
     "metadata": {},
     "output_type": "execute_result"
    }
   ],
   "source": [
    "fib(10)"
   ]
  },
  {
   "cell_type": "code",
   "execution_count": 28,
   "id": "a9a45762-5a2d-40d8-a00b-f98626c80239",
   "metadata": {},
   "outputs": [],
   "source": [
    "def fib_memoised(n):\n",
    "    if n<2:\n",
    "        return 1\n",
    "    else:\n",
    "        a=0;b=1\n",
    "        for i in range(n):\n",
    "            b+=a\n",
    "            a=b-a\n",
    "        return b\n"
   ]
  },
  {
   "cell_type": "code",
   "execution_count": 29,
   "id": "4ac08195-0adf-4391-a8e0-ef88fd8d4537",
   "metadata": {},
   "outputs": [
    {
     "data": {
      "text/plain": [
       "89"
      ]
     },
     "execution_count": 29,
     "metadata": {},
     "output_type": "execute_result"
    }
   ],
   "source": [
    "fib_memoised(10)"
   ]
  },
  {
   "cell_type": "code",
   "execution_count": 30,
   "id": "744f8ea0-a9ed-498b-9c17-58b2778ed41d",
   "metadata": {},
   "outputs": [
    {
     "name": "stdout",
     "output_type": "stream",
     "text": [
      "92.5 µs ± 492 ns per loop (mean ± std. dev. of 7 runs, 10,000 loops each)\n"
     ]
    }
   ],
   "source": [
    "%timeit fib(10)"
   ]
  },
  {
   "cell_type": "code",
   "execution_count": 31,
   "id": "12f54f95-caa7-4be7-af2d-e08c73695ec7",
   "metadata": {},
   "outputs": [
    {
     "name": "stdout",
     "output_type": "stream",
     "text": [
      "1.5 µs ± 1.9 ns per loop (mean ± std. dev. of 7 runs, 1,000,000 loops each)\n"
     ]
    }
   ],
   "source": [
    "%timeit fib_memoised(10)"
   ]
  },
  {
   "cell_type": "code",
   "execution_count": 32,
   "id": "720fb2d4-f2f8-467f-8699-1b3c1dfd37b8",
   "metadata": {},
   "outputs": [
    {
     "name": "stderr",
     "output_type": "stream",
     "text": [
      "1419.25s - pydevd: Sending message related to process being replaced timed-out after 5 seconds\n"
     ]
    },
    {
     "name": "stdout",
     "output_type": "stream",
     "text": [
      "Requirement already satisfied: numpy in ./.venv/lib/python3.9/site-packages (1.26.2)\n",
      "Requirement already satisfied: pandas in ./.venv/lib/python3.9/site-packages (2.1.4)\n",
      "Requirement already satisfied: scikit-learn in ./.venv/lib/python3.9/site-packages (1.3.2)\n",
      "Requirement already satisfied: scikit-image in ./.venv/lib/python3.9/site-packages (0.22.0)\n",
      "Requirement already satisfied: matplotlib in ./.venv/lib/python3.9/site-packages (3.8.2)\n",
      "Requirement already satisfied: python-dateutil>=2.8.2 in ./.venv/lib/python3.9/site-packages (from pandas) (2.8.2)\n",
      "Requirement already satisfied: pytz>=2020.1 in ./.venv/lib/python3.9/site-packages (from pandas) (2023.3.post1)\n",
      "Requirement already satisfied: tzdata>=2022.1 in ./.venv/lib/python3.9/site-packages (from pandas) (2023.3)\n",
      "Requirement already satisfied: scipy>=1.5.0 in ./.venv/lib/python3.9/site-packages (from scikit-learn) (1.11.4)\n",
      "Requirement already satisfied: joblib>=1.1.1 in ./.venv/lib/python3.9/site-packages (from scikit-learn) (1.3.2)\n",
      "Requirement already satisfied: threadpoolctl>=2.0.0 in ./.venv/lib/python3.9/site-packages (from scikit-learn) (3.2.0)\n",
      "Requirement already satisfied: networkx>=2.8 in ./.venv/lib/python3.9/site-packages (from scikit-image) (3.2.1)\n",
      "Requirement already satisfied: pillow>=9.0.1 in ./.venv/lib/python3.9/site-packages (from scikit-image) (10.1.0)\n",
      "Requirement already satisfied: imageio>=2.27 in ./.venv/lib/python3.9/site-packages (from scikit-image) (2.33.1)\n",
      "Requirement already satisfied: tifffile>=2022.8.12 in ./.venv/lib/python3.9/site-packages (from scikit-image) (2023.12.9)\n",
      "Requirement already satisfied: packaging>=21 in ./.venv/lib/python3.9/site-packages (from scikit-image) (23.2)\n",
      "Requirement already satisfied: lazy_loader>=0.3 in ./.venv/lib/python3.9/site-packages (from scikit-image) (0.3)\n",
      "Requirement already satisfied: contourpy>=1.0.1 in ./.venv/lib/python3.9/site-packages (from matplotlib) (1.2.0)\n",
      "Requirement already satisfied: cycler>=0.10 in ./.venv/lib/python3.9/site-packages (from matplotlib) (0.12.1)\n",
      "Requirement already satisfied: fonttools>=4.22.0 in ./.venv/lib/python3.9/site-packages (from matplotlib) (4.46.0)\n",
      "Requirement already satisfied: kiwisolver>=1.3.1 in ./.venv/lib/python3.9/site-packages (from matplotlib) (1.4.5)\n",
      "Requirement already satisfied: pyparsing>=2.3.1 in ./.venv/lib/python3.9/site-packages (from matplotlib) (3.1.1)\n",
      "Requirement already satisfied: importlib-resources>=3.2.0 in ./.venv/lib/python3.9/site-packages (from matplotlib) (6.1.1)\n",
      "Requirement already satisfied: zipp>=3.1.0 in ./.venv/lib/python3.9/site-packages (from importlib-resources>=3.2.0->matplotlib) (3.17.0)\n",
      "Requirement already satisfied: six>=1.5 in ./.venv/lib/python3.9/site-packages (from python-dateutil>=2.8.2->pandas) (1.16.0)\n"
     ]
    }
   ],
   "source": [
    "!pip3 install numpy pandas scikit-learn scikit-image matplotlib"
   ]
  },
  {
   "cell_type": "code",
   "execution_count": 33,
   "id": "636579c9-e833-4309-8232-e5f8feb165db",
   "metadata": {},
   "outputs": [
    {
     "name": "stderr",
     "output_type": "stream",
     "text": [
      "1425.25s - pydevd: Sending message related to process being replaced timed-out after 5 seconds\n"
     ]
    },
    {
     "name": "stdout",
     "output_type": "stream",
     "text": [
      "Requirement already satisfied: torch in ./.venv/lib/python3.9/site-packages (2.1.1)\n",
      "Requirement already satisfied: torchvision in ./.venv/lib/python3.9/site-packages (0.16.1)\n",
      "Requirement already satisfied: filelock in ./.venv/lib/python3.9/site-packages (from torch) (3.13.1)\n",
      "Requirement already satisfied: typing-extensions in ./.venv/lib/python3.9/site-packages (from torch) (4.9.0)\n",
      "Requirement already satisfied: sympy in ./.venv/lib/python3.9/site-packages (from torch) (1.12)\n",
      "Requirement already satisfied: networkx in ./.venv/lib/python3.9/site-packages (from torch) (3.2.1)\n",
      "Requirement already satisfied: jinja2 in ./.venv/lib/python3.9/site-packages (from torch) (3.1.2)\n",
      "Requirement already satisfied: fsspec in ./.venv/lib/python3.9/site-packages (from torch) (2023.12.2)\n",
      "Requirement already satisfied: numpy in ./.venv/lib/python3.9/site-packages (from torchvision) (1.26.2)\n",
      "Requirement already satisfied: requests in ./.venv/lib/python3.9/site-packages (from torchvision) (2.31.0)\n",
      "Requirement already satisfied: pillow!=8.3.*,>=5.3.0 in ./.venv/lib/python3.9/site-packages (from torchvision) (10.1.0)\n",
      "Requirement already satisfied: MarkupSafe>=2.0 in ./.venv/lib/python3.9/site-packages (from jinja2->torch) (2.1.3)\n",
      "Requirement already satisfied: charset-normalizer<4,>=2 in ./.venv/lib/python3.9/site-packages (from requests->torchvision) (3.3.2)\n",
      "Requirement already satisfied: idna<4,>=2.5 in ./.venv/lib/python3.9/site-packages (from requests->torchvision) (3.6)\n",
      "Requirement already satisfied: urllib3<3,>=1.21.1 in ./.venv/lib/python3.9/site-packages (from requests->torchvision) (2.1.0)\n",
      "Requirement already satisfied: certifi>=2017.4.17 in ./.venv/lib/python3.9/site-packages (from requests->torchvision) (2023.11.17)\n",
      "Requirement already satisfied: mpmath>=0.19 in ./.venv/lib/python3.9/site-packages (from sympy->torch) (1.3.0)\n"
     ]
    }
   ],
   "source": [
    "!pip3 install torch torchvision"
   ]
  },
  {
   "cell_type": "code",
   "execution_count": 34,
   "id": "6d469346-e2a4-4b5c-96c3-5c2895233df1",
   "metadata": {},
   "outputs": [
    {
     "name": "stderr",
     "output_type": "stream",
     "text": [
      "1431.21s - pydevd: Sending message related to process being replaced timed-out after 5 seconds\n"
     ]
    },
    {
     "name": "stdout",
     "output_type": "stream",
     "text": [
      "Requirement already satisfied: openai in ./.venv/lib/python3.9/site-packages (1.3.9)\n",
      "Requirement already satisfied: gym in ./.venv/lib/python3.9/site-packages (0.26.2)\n",
      "Requirement already satisfied: box2d in ./.venv/lib/python3.9/site-packages (2.3.2)\n",
      "Requirement already satisfied: anyio<5,>=3.5.0 in ./.venv/lib/python3.9/site-packages (from openai) (4.1.0)\n",
      "Requirement already satisfied: distro<2,>=1.7.0 in ./.venv/lib/python3.9/site-packages (from openai) (1.8.0)\n",
      "Requirement already satisfied: httpx<1,>=0.23.0 in ./.venv/lib/python3.9/site-packages (from openai) (0.25.2)\n",
      "Requirement already satisfied: pydantic<3,>=1.9.0 in ./.venv/lib/python3.9/site-packages (from openai) (2.5.2)\n",
      "Requirement already satisfied: sniffio in ./.venv/lib/python3.9/site-packages (from openai) (1.3.0)\n",
      "Requirement already satisfied: tqdm>4 in ./.venv/lib/python3.9/site-packages (from openai) (4.66.1)\n",
      "Requirement already satisfied: typing-extensions<5,>=4.5 in ./.venv/lib/python3.9/site-packages (from openai) (4.9.0)\n",
      "Requirement already satisfied: numpy>=1.18.0 in ./.venv/lib/python3.9/site-packages (from gym) (1.26.2)\n",
      "Requirement already satisfied: cloudpickle>=1.2.0 in ./.venv/lib/python3.9/site-packages (from gym) (3.0.0)\n",
      "Requirement already satisfied: gym-notices>=0.0.4 in ./.venv/lib/python3.9/site-packages (from gym) (0.0.8)\n",
      "Requirement already satisfied: importlib-metadata>=4.8.0 in ./.venv/lib/python3.9/site-packages (from gym) (7.0.0)\n",
      "Requirement already satisfied: idna>=2.8 in ./.venv/lib/python3.9/site-packages (from anyio<5,>=3.5.0->openai) (3.6)\n",
      "Requirement already satisfied: exceptiongroup>=1.0.2 in ./.venv/lib/python3.9/site-packages (from anyio<5,>=3.5.0->openai) (1.2.0)\n",
      "Requirement already satisfied: certifi in ./.venv/lib/python3.9/site-packages (from httpx<1,>=0.23.0->openai) (2023.11.17)\n",
      "Requirement already satisfied: httpcore==1.* in ./.venv/lib/python3.9/site-packages (from httpx<1,>=0.23.0->openai) (1.0.2)\n",
      "Requirement already satisfied: h11<0.15,>=0.13 in ./.venv/lib/python3.9/site-packages (from httpcore==1.*->httpx<1,>=0.23.0->openai) (0.14.0)\n",
      "Requirement already satisfied: zipp>=0.5 in ./.venv/lib/python3.9/site-packages (from importlib-metadata>=4.8.0->gym) (3.17.0)\n",
      "Requirement already satisfied: annotated-types>=0.4.0 in ./.venv/lib/python3.9/site-packages (from pydantic<3,>=1.9.0->openai) (0.6.0)\n",
      "Requirement already satisfied: pydantic-core==2.14.5 in ./.venv/lib/python3.9/site-packages (from pydantic<3,>=1.9.0->openai) (2.14.5)\n"
     ]
    }
   ],
   "source": [
    "!pip3 install openai gym box2d"
   ]
  },
  {
   "cell_type": "code",
   "execution_count": 35,
   "id": "aadb8200-f716-4c18-a496-2b62584cc0a0",
   "metadata": {},
   "outputs": [
    {
     "name": "stderr",
     "output_type": "stream",
     "text": [
      "1437.21s - pydevd: Sending message related to process being replaced timed-out after 5 seconds\n"
     ]
    },
    {
     "name": "stdout",
     "output_type": "stream",
     "text": [
      "absl-py==2.0.0\n",
      "ale-py==0.8.1\n",
      "annotated-types==0.6.0\n",
      "anyio==4.1.0\n",
      "appnope==0.1.3\n",
      "argon2-cffi==23.1.0\n",
      "argon2-cffi-bindings==21.2.0\n",
      "arrow==1.3.0\n",
      "asttokens==2.4.1\n",
      "async-lru==2.0.4\n",
      "attrs==23.1.0\n",
      "Babel==2.14.0\n",
      "beautifulsoup4==4.12.2\n",
      "bleach==6.1.0\n",
      "Box2D==2.3.2\n",
      "box2d-py==2.3.5\n",
      "certifi==2023.11.17\n",
      "cffi==1.16.0\n",
      "charset-normalizer==3.3.2\n",
      "cloudpickle==3.0.0\n",
      "comm==0.2.0\n",
      "contourpy==1.2.0\n",
      "cycler==0.12.1\n",
      "Cython==3.0.6\n",
      "debugpy==1.8.0\n",
      "decorator==4.4.2\n",
      "defusedxml==0.7.1\n",
      "distro==1.8.0\n",
      "entrypoints==0.4\n",
      "exceptiongroup==1.2.0\n",
      "executing==2.0.1\n",
      "fasteners==0.19\n",
      "fastjsonschema==2.19.0\n",
      "filelock==3.13.1\n",
      "fonttools==4.46.0\n",
      "fqdn==1.5.1\n",
      "fsspec==2023.12.2\n",
      "glfw==2.6.3\n",
      "gym==0.26.2\n",
      "gym-notices==0.0.8\n",
      "h11==0.14.0\n",
      "httpcore==1.0.2\n",
      "httpx==0.25.2\n",
      "idna==3.6\n",
      "imageio==2.33.1\n",
      "imageio-ffmpeg==0.4.9\n",
      "importlib-metadata==7.0.0\n",
      "importlib-resources==6.1.1\n",
      "iniconfig==2.0.0\n",
      "ipykernel==6.27.1\n",
      "ipyparallel==8.6.1\n",
      "ipython==8.18.1\n",
      "ipywidgets==8.1.1\n",
      "isoduration==20.11.0\n",
      "jedi==0.19.1\n",
      "Jinja2==3.1.2\n",
      "joblib==1.3.2\n",
      "json5==0.9.14\n",
      "jsonpointer==2.4\n",
      "jsonschema==4.20.0\n",
      "jsonschema-specifications==2023.11.2\n",
      "jupyter==1.0.0\n",
      "jupyter-console==6.6.3\n",
      "jupyter-events==0.9.0\n",
      "jupyter-lsp==2.2.1\n",
      "jupyter_client==8.6.0\n",
      "jupyter_core==5.5.0\n",
      "jupyter_server==2.12.1\n",
      "jupyter_server_terminals==0.5.0\n",
      "jupyterlab==4.0.9\n",
      "jupyterlab-widgets==3.0.9\n",
      "jupyterlab_pygments==0.3.0\n",
      "jupyterlab_server==2.25.2\n",
      "kiwisolver==1.4.5\n",
      "lazy_loader==0.3\n",
      "lz4==4.3.2\n",
      "MarkupSafe==2.1.3\n",
      "matplotlib==3.8.2\n",
      "matplotlib-inline==0.1.6\n",
      "mistune==3.0.2\n",
      "moviepy==1.0.3\n",
      "mpmath==1.3.0\n",
      "mujoco==2.2.0\n",
      "mujoco-py==2.1.2.14\n",
      "nbclient==0.9.0\n",
      "nbconvert==7.12.0\n",
      "nbformat==5.9.2\n",
      "nest-asyncio==1.5.8\n",
      "networkx==3.2.1\n",
      "notebook==7.0.6\n",
      "notebook_shim==0.2.3\n",
      "numpy==1.26.2\n",
      "openai==1.3.9\n",
      "opencv-python==4.8.1.78\n",
      "overrides==7.4.0\n",
      "packaging==23.2\n",
      "pandas==2.1.4\n",
      "pandocfilters==1.5.0\n",
      "parso==0.8.3\n",
      "pexpect==4.9.0\n",
      "Pillow==10.1.0\n",
      "platformdirs==4.1.0\n",
      "pluggy==1.3.0\n",
      "proglog==0.1.10\n",
      "prometheus-client==0.19.0\n",
      "prompt-toolkit==3.0.43\n",
      "psutil==5.9.6\n",
      "ptyprocess==0.7.0\n",
      "pure-eval==0.2.2\n",
      "py==1.11.0\n",
      "pycparser==2.21\n",
      "pydantic==2.5.2\n",
      "pydantic_core==2.14.5\n",
      "pygame==2.1.0\n",
      "Pygments==2.17.2\n",
      "PyOpenGL==3.1.7\n",
      "pyparsing==3.1.1\n",
      "pytest==7.0.1\n",
      "python-dateutil==2.8.2\n",
      "python-json-logger==2.0.7\n",
      "pytz==2023.3.post1\n",
      "PyYAML==6.0.1\n",
      "pyzmq==25.1.2\n",
      "qtconsole==5.5.1\n",
      "QtPy==2.4.1\n",
      "referencing==0.32.0\n",
      "requests==2.31.0\n",
      "rfc3339-validator==0.1.4\n",
      "rfc3986-validator==0.1.1\n",
      "rpds-py==0.13.2\n",
      "scikit-image==0.22.0\n",
      "scikit-learn==1.3.2\n",
      "scipy==1.11.4\n",
      "Send2Trash==1.8.2\n",
      "six==1.16.0\n",
      "sniffio==1.3.0\n",
      "soupsieve==2.5\n",
      "stack-data==0.6.3\n",
      "swig==4.1.1.post1\n",
      "sympy==1.12\n",
      "terminado==0.18.0\n",
      "threadpoolctl==3.2.0\n",
      "tifffile==2023.12.9\n",
      "tinycss2==1.2.1\n",
      "tomli==2.0.1\n",
      "torch==2.1.1\n",
      "torchvision==0.16.1\n",
      "tornado==6.4\n",
      "tqdm==4.66.1\n",
      "traitlets==5.14.0\n",
      "types-python-dateutil==2.8.19.14\n",
      "typing_extensions==4.9.0\n",
      "tzdata==2023.3\n",
      "uri-template==1.3.0\n",
      "urllib3==2.1.0\n",
      "wcwidth==0.2.12\n",
      "webcolors==1.13\n",
      "webencodings==0.5.1\n",
      "websocket-client==1.7.0\n",
      "widgetsnbextension==4.0.9\n",
      "zipp==3.17.0\n"
     ]
    }
   ],
   "source": [
    "!pip3 freeze"
   ]
  },
  {
   "cell_type": "code",
   "execution_count": 36,
   "id": "1d72d10d-968a-4d57-8050-f2be646b637c",
   "metadata": {},
   "outputs": [],
   "source": [
    "import numpy as np\n",
    "import pandas as pd"
   ]
  },
  {
   "cell_type": "code",
   "execution_count": 37,
   "id": "cd63cd88-f604-4f86-9240-3e8530b778b4",
   "metadata": {},
   "outputs": [],
   "source": [
    "data=pd.read_csv('Products .csv',low_memory=False)"
   ]
  },
  {
   "cell_type": "code",
   "execution_count": 38,
   "id": "aafb61e5-d9a6-465b-a04d-4cc1d46ed579",
   "metadata": {},
   "outputs": [
    {
     "data": {
      "text/html": [
       "<div>\n",
       "<style scoped>\n",
       "    .dataframe tbody tr th:only-of-type {\n",
       "        vertical-align: middle;\n",
       "    }\n",
       "\n",
       "    .dataframe tbody tr th {\n",
       "        vertical-align: top;\n",
       "    }\n",
       "\n",
       "    .dataframe thead th {\n",
       "        text-align: right;\n",
       "    }\n",
       "</style>\n",
       "<table border=\"1\" class=\"dataframe\">\n",
       "  <thead>\n",
       "    <tr style=\"text-align: right;\">\n",
       "      <th></th>\n",
       "      <th>ApplNo</th>\n",
       "      <th>ProductNo</th>\n",
       "      <th>DrugName</th>\n",
       "      <th>Form</th>\n",
       "      <th>Unnamed: 4</th>\n",
       "      <th>Strength</th>\n",
       "      <th>ReferenceDrug</th>\n",
       "      <th>Unnamed: 7</th>\n",
       "      <th>ActiveIngredient</th>\n",
       "      <th>ReferenceStandard</th>\n",
       "      <th>...</th>\n",
       "      <th>Unnamed: 24</th>\n",
       "      <th>Unnamed: 25</th>\n",
       "      <th>Unnamed: 26</th>\n",
       "      <th>Unnamed: 27</th>\n",
       "      <th>Unnamed: 28</th>\n",
       "      <th>Unnamed: 29</th>\n",
       "      <th>Unnamed: 30</th>\n",
       "      <th>Unnamed: 31</th>\n",
       "      <th>Unnamed: 32</th>\n",
       "      <th>Unnamed: 33</th>\n",
       "    </tr>\n",
       "  </thead>\n",
       "  <tbody>\n",
       "    <tr>\n",
       "      <th>0</th>\n",
       "      <td>4</td>\n",
       "      <td>4</td>\n",
       "      <td>PAREDRINE</td>\n",
       "      <td>SOLUTION/DROPS;OPHTHALMIC</td>\n",
       "      <td>NaN</td>\n",
       "      <td>1%</td>\n",
       "      <td>0</td>\n",
       "      <td>NaN</td>\n",
       "      <td>HYDROXYAMPHETAMINE HYDROBROMIDE</td>\n",
       "      <td>0</td>\n",
       "      <td>...</td>\n",
       "      <td>NaN</td>\n",
       "      <td>NaN</td>\n",
       "      <td>NaN</td>\n",
       "      <td>NaN</td>\n",
       "      <td>NaN</td>\n",
       "      <td>NaN</td>\n",
       "      <td>NaN</td>\n",
       "      <td>NaN</td>\n",
       "      <td>NaN</td>\n",
       "      <td>NaN</td>\n",
       "    </tr>\n",
       "    <tr>\n",
       "      <th>1</th>\n",
       "      <td>159</td>\n",
       "      <td>1</td>\n",
       "      <td>SULFAPYRIDINE</td>\n",
       "      <td>TABLET\\tORAL</td>\n",
       "      <td>NaN</td>\n",
       "      <td>500MG</td>\n",
       "      <td>0</td>\n",
       "      <td>NaN</td>\n",
       "      <td>SULFAPYRIDINE</td>\n",
       "      <td>0</td>\n",
       "      <td>...</td>\n",
       "      <td>NaN</td>\n",
       "      <td>NaN</td>\n",
       "      <td>NaN</td>\n",
       "      <td>NaN</td>\n",
       "      <td>NaN</td>\n",
       "      <td>NaN</td>\n",
       "      <td>NaN</td>\n",
       "      <td>NaN</td>\n",
       "      <td>NaN</td>\n",
       "      <td>NaN</td>\n",
       "    </tr>\n",
       "    <tr>\n",
       "      <th>2</th>\n",
       "      <td>552</td>\n",
       "      <td>1</td>\n",
       "      <td>LIQUAEMIN SODIUM</td>\n",
       "      <td>INJECTABLE\\tINJECTION\\nINJECTABLE\\tINJECTION\\n...</td>\n",
       "      <td>NaN</td>\n",
       "      <td>20,000 UNITS/ML</td>\n",
       "      <td>0</td>\n",
       "      <td>NaN</td>\n",
       "      <td>HEPARIN SODIUM</td>\n",
       "      <td>0</td>\n",
       "      <td>...</td>\n",
       "      <td>NaN</td>\n",
       "      <td>NaN</td>\n",
       "      <td>NaN</td>\n",
       "      <td>NaN</td>\n",
       "      <td>NaN</td>\n",
       "      <td>NaN</td>\n",
       "      <td>NaN</td>\n",
       "      <td>NaN</td>\n",
       "      <td>NaN</td>\n",
       "      <td>NaN</td>\n",
       "    </tr>\n",
       "    <tr>\n",
       "      <th>3</th>\n",
       "      <td>552</td>\n",
       "      <td>2</td>\n",
       "      <td>LIQUAEMIN SODIUM</td>\n",
       "      <td>NaN</td>\n",
       "      <td>NaN</td>\n",
       "      <td>40,000 UNITS/ML</td>\n",
       "      <td>0</td>\n",
       "      <td>NaN</td>\n",
       "      <td>HEPARIN SODIUM</td>\n",
       "      <td>0</td>\n",
       "      <td>...</td>\n",
       "      <td>NaN</td>\n",
       "      <td>NaN</td>\n",
       "      <td>NaN</td>\n",
       "      <td>NaN</td>\n",
       "      <td>NaN</td>\n",
       "      <td>NaN</td>\n",
       "      <td>NaN</td>\n",
       "      <td>NaN</td>\n",
       "      <td>NaN</td>\n",
       "      <td>NaN</td>\n",
       "    </tr>\n",
       "    <tr>\n",
       "      <th>4</th>\n",
       "      <td>552</td>\n",
       "      <td>3</td>\n",
       "      <td>LIQUAEMIN SODIUM</td>\n",
       "      <td>NaN</td>\n",
       "      <td>NaN</td>\n",
       "      <td>5,000 UNITS/ML</td>\n",
       "      <td>0</td>\n",
       "      <td>NaN</td>\n",
       "      <td>HEPARIN SODIUM</td>\n",
       "      <td>0</td>\n",
       "      <td>...</td>\n",
       "      <td>NaN</td>\n",
       "      <td>NaN</td>\n",
       "      <td>NaN</td>\n",
       "      <td>NaN</td>\n",
       "      <td>NaN</td>\n",
       "      <td>NaN</td>\n",
       "      <td>NaN</td>\n",
       "      <td>NaN</td>\n",
       "      <td>NaN</td>\n",
       "      <td>NaN</td>\n",
       "    </tr>\n",
       "  </tbody>\n",
       "</table>\n",
       "<p>5 rows × 34 columns</p>\n",
       "</div>"
      ],
      "text/plain": [
       "   ApplNo  ProductNo          DrugName  \\\n",
       "0       4          4         PAREDRINE   \n",
       "1     159          1     SULFAPYRIDINE   \n",
       "2     552          1  LIQUAEMIN SODIUM   \n",
       "3     552          2  LIQUAEMIN SODIUM   \n",
       "4     552          3  LIQUAEMIN SODIUM   \n",
       "\n",
       "                                                Form  Unnamed: 4  \\\n",
       "0                          SOLUTION/DROPS;OPHTHALMIC         NaN   \n",
       "1                                       TABLET\\tORAL         NaN   \n",
       "2  INJECTABLE\\tINJECTION\\nINJECTABLE\\tINJECTION\\n...         NaN   \n",
       "3                                                NaN         NaN   \n",
       "4                                                NaN         NaN   \n",
       "\n",
       "          Strength ReferenceDrug  Unnamed: 7                 ActiveIngredient  \\\n",
       "0               1%             0         NaN  HYDROXYAMPHETAMINE HYDROBROMIDE   \n",
       "1            500MG             0         NaN                    SULFAPYRIDINE   \n",
       "2  20,000 UNITS/ML             0         NaN                   HEPARIN SODIUM   \n",
       "3  40,000 UNITS/ML             0         NaN                   HEPARIN SODIUM   \n",
       "4   5,000 UNITS/ML             0         NaN                   HEPARIN SODIUM   \n",
       "\n",
       "  ReferenceStandard  ... Unnamed: 24 Unnamed: 25 Unnamed: 26 Unnamed: 27  \\\n",
       "0                 0  ...         NaN         NaN         NaN         NaN   \n",
       "1                 0  ...         NaN         NaN         NaN         NaN   \n",
       "2                 0  ...         NaN         NaN         NaN         NaN   \n",
       "3                 0  ...         NaN         NaN         NaN         NaN   \n",
       "4                 0  ...         NaN         NaN         NaN         NaN   \n",
       "\n",
       "  Unnamed: 28 Unnamed: 29 Unnamed: 30 Unnamed: 31 Unnamed: 32 Unnamed: 33  \n",
       "0         NaN         NaN         NaN         NaN         NaN         NaN  \n",
       "1         NaN         NaN         NaN         NaN         NaN         NaN  \n",
       "2         NaN         NaN         NaN         NaN         NaN         NaN  \n",
       "3         NaN         NaN         NaN         NaN         NaN         NaN  \n",
       "4         NaN         NaN         NaN         NaN         NaN         NaN  \n",
       "\n",
       "[5 rows x 34 columns]"
      ]
     },
     "execution_count": 38,
     "metadata": {},
     "output_type": "execute_result"
    }
   ],
   "source": [
    "data.head()"
   ]
  },
  {
   "cell_type": "code",
   "execution_count": null,
   "id": "96034725-9bca-4d9e-9947-66d3d6c6f8ac",
   "metadata": {},
   "outputs": [],
   "source": []
  }
 ],
 "metadata": {
  "kernelspec": {
   "display_name": "Python 3 (ipykernel)",
   "language": "python",
   "name": "python3"
  },
  "language_info": {
   "codemirror_mode": {
    "name": "ipython",
    "version": 3
   },
   "file_extension": ".py",
   "mimetype": "text/x-python",
   "name": "python",
   "nbconvert_exporter": "python",
   "pygments_lexer": "ipython3",
   "version": "3.9.6"
  },
  "widgets": {
   "application/vnd.jupyter.widget-state+json": {
    "state": {},
    "version_major": 2,
    "version_minor": 0
   }
  }
 },
 "nbformat": 4,
 "nbformat_minor": 5
}
