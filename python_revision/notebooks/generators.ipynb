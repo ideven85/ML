{
 "cells": [
  {
   "cell_type": "code",
   "id": "initial_id",
   "metadata": {
    "collapsed": true,
    "ExecuteTime": {
     "end_time": "2024-09-14T04:43:26.998692Z",
     "start_time": "2024-09-14T04:43:26.996160Z"
    }
   },
   "source": [
    "import sys\n",
    "from dataclasses import dataclass\n",
    "\n",
    "print(sys.hash_info.width)"
   ],
   "outputs": [
    {
     "name": "stdout",
     "output_type": "stream",
     "text": [
      "64\n"
     ]
    }
   ],
   "execution_count": 1
  },
  {
   "metadata": {
    "ExecuteTime": {
     "end_time": "2024-09-14T04:44:08.598116Z",
     "start_time": "2024-09-14T04:44:08.594712Z"
    }
   },
   "cell_type": "code",
   "source": [
    "from collections import namedtuple\n",
    "\n",
    "Card = namedtuple(\"Card\", (\"rank\", \"suit\"))"
   ],
   "id": "db3ab72151dd6773",
   "outputs": [],
   "execution_count": 2
  },
  {
   "metadata": {
    "ExecuteTime": {
     "end_time": "2024-09-14T04:58:11.068224Z",
     "start_time": "2024-09-14T04:58:11.065186Z"
    }
   },
   "cell_type": "code",
   "source": [
    "suits = (\"Spades\", \"Hearts\", \"Diamonds\", \"Clubs\")\n",
    "ranks = tuple((range(2, 11))) + tuple(\"JQKA\")"
   ],
   "id": "8fd42b541617122b",
   "outputs": [],
   "execution_count": 31
  },
  {
   "metadata": {
    "ExecuteTime": {
     "end_time": "2024-09-14T04:58:39.450790Z",
     "start_time": "2024-09-14T04:58:39.447977Z"
    }
   },
   "cell_type": "code",
   "source": [
    "def card_gen():\n",
    "    for i in range(len(ranks) * len(suits)):\n",
    "        card = Card(str(ranks[i % len(ranks)]), suits[i // len(ranks)])\n",
    "        yield card"
   ],
   "id": "ee2123050989cb17",
   "outputs": [],
   "execution_count": 35
  },
  {
   "metadata": {
    "ExecuteTime": {
     "end_time": "2024-09-14T04:53:05.246767Z",
     "start_time": "2024-09-14T04:53:05.243430Z"
    }
   },
   "cell_type": "code",
   "source": "next(card_gen())",
   "id": "77f1a21104d55e09",
   "outputs": [
    {
     "data": {
      "text/plain": [
       "Card(rank='r', suit='JACK')"
      ]
     },
     "execution_count": 18,
     "metadata": {},
     "output_type": "execute_result"
    }
   ],
   "execution_count": 18
  },
  {
   "metadata": {
    "ExecuteTime": {
     "end_time": "2024-09-14T04:56:42.260044Z",
     "start_time": "2024-09-14T04:56:42.257439Z"
    }
   },
   "cell_type": "code",
   "source": "print(list(card_gen()))",
   "id": "2a0f80a1ae3d6c44",
   "outputs": [
    {
     "name": "stdout",
     "output_type": "stream",
     "text": [
      "[Card(rank=2, suit='Spades'), Card(rank=3, suit='Spades'), Card(rank=4, suit='Spades'), Card(rank=5, suit='Spades'), Card(rank=6, suit='Spades'), Card(rank=7, suit='Spades'), Card(rank=8, suit='Spades'), Card(rank=9, suit='Spades'), Card(rank=10, suit='Spades'), Card(rank='J', suit='Spades'), Card(rank='Q', suit='Spades'), Card(rank='K', suit='Spades'), Card(rank='A', suit='Spades'), Card(rank=2, suit='Hearts'), Card(rank=3, suit='Hearts'), Card(rank=4, suit='Hearts'), Card(rank=5, suit='Hearts'), Card(rank=6, suit='Hearts'), Card(rank=7, suit='Hearts'), Card(rank=8, suit='Hearts'), Card(rank=9, suit='Hearts'), Card(rank=10, suit='Hearts'), Card(rank='J', suit='Hearts'), Card(rank='Q', suit='Hearts'), Card(rank='K', suit='Hearts'), Card(rank='A', suit='Hearts'), Card(rank=2, suit='Diamonds'), Card(rank=3, suit='Diamonds'), Card(rank=4, suit='Diamonds'), Card(rank=5, suit='Diamonds'), Card(rank=6, suit='Diamonds'), Card(rank=7, suit='Diamonds'), Card(rank=8, suit='Diamonds'), Card(rank=9, suit='Diamonds'), Card(rank=10, suit='Diamonds'), Card(rank='J', suit='Diamonds'), Card(rank='Q', suit='Diamonds'), Card(rank='K', suit='Diamonds'), Card(rank='A', suit='Diamonds'), Card(rank=2, suit='Clubs'), Card(rank=3, suit='Clubs'), Card(rank=4, suit='Clubs'), Card(rank=5, suit='Clubs'), Card(rank=6, suit='Clubs'), Card(rank=7, suit='Clubs'), Card(rank=8, suit='Clubs'), Card(rank=9, suit='Clubs'), Card(rank=10, suit='Clubs'), Card(rank='J', suit='Clubs'), Card(rank='Q', suit='Clubs'), Card(rank='K', suit='Clubs'), Card(rank='A', suit='Clubs')]\n"
     ]
    }
   ],
   "execution_count": 28
  },
  {
   "metadata": {
    "ExecuteTime": {
     "end_time": "2024-09-14T04:58:42.233389Z",
     "start_time": "2024-09-14T04:58:42.230085Z"
    }
   },
   "cell_type": "code",
   "source": "l = list(card_gen())",
   "id": "52ee0474b3e3b535",
   "outputs": [],
   "execution_count": 36
  },
  {
   "metadata": {
    "ExecuteTime": {
     "end_time": "2024-09-14T04:58:43.032995Z",
     "start_time": "2024-09-14T04:58:43.029104Z"
    }
   },
   "cell_type": "code",
   "source": "len(l)",
   "id": "ad44ee07de2eff55",
   "outputs": [
    {
     "data": {
      "text/plain": [
       "52"
      ]
     },
     "execution_count": 37,
     "metadata": {},
     "output_type": "execute_result"
    }
   ],
   "execution_count": 37
  },
  {
   "metadata": {
    "ExecuteTime": {
     "end_time": "2024-09-14T04:58:50.149082Z",
     "start_time": "2024-09-14T04:58:50.144788Z"
    }
   },
   "cell_type": "code",
   "source": "l[:5]",
   "id": "ef724426dd9531ac",
   "outputs": [
    {
     "data": {
      "text/plain": [
       "[Card(rank='2', suit='Spades'),\n",
       " Card(rank='3', suit='Spades'),\n",
       " Card(rank='4', suit='Spades'),\n",
       " Card(rank='5', suit='Spades'),\n",
       " Card(rank='6', suit='Spades')]"
      ]
     },
     "execution_count": 38,
     "metadata": {},
     "output_type": "execute_result"
    }
   ],
   "execution_count": 38
  },
  {
   "metadata": {
    "ExecuteTime": {
     "end_time": "2024-09-14T05:06:36.999931Z",
     "start_time": "2024-09-14T05:06:36.995643Z"
    }
   },
   "cell_type": "code",
   "source": [
    "x = [\"baz\", 301, 302, 303]\n",
    "y = x\n",
    "x[0] = 342\n",
    "print(x)\n",
    "print(y)\n",
    "x is y"
   ],
   "id": "6b8719c275077cd6",
   "outputs": [
    {
     "name": "stdout",
     "output_type": "stream",
     "text": [
      "[342, 301, 302, 303]\n",
      "[342, 301, 302, 303]\n"
     ]
    },
    {
     "data": {
      "text/plain": [
       "True"
      ]
     },
     "execution_count": 41,
     "metadata": {},
     "output_type": "execute_result"
    }
   ],
   "execution_count": 41
  },
  {
   "metadata": {
    "ExecuteTime": {
     "end_time": "2024-09-14T05:08:54.057802Z",
     "start_time": "2024-09-14T05:08:54.054383Z"
    }
   },
   "cell_type": "code",
   "source": [
    "a = [301, 302, 303]\n",
    "b = [a, a, a]\n",
    "b[0][0] = 304\n",
    "print(a)\n",
    "print(b)"
   ],
   "id": "3a3704837e3e1678",
   "outputs": [
    {
     "name": "stdout",
     "output_type": "stream",
     "text": [
      "[304, 302, 303]\n",
      "[[304, 302, 303], [304, 302, 303], [304, 302, 303]]\n"
     ]
    }
   ],
   "execution_count": 42
  },
  {
   "metadata": {
    "ExecuteTime": {
     "end_time": "2024-09-14T05:09:37.768272Z",
     "start_time": "2024-09-14T05:09:37.763968Z"
    }
   },
   "cell_type": "code",
   "source": "id(b)",
   "id": "b75e227a2770135d",
   "outputs": [
    {
     "data": {
      "text/plain": [
       "4399656704"
      ]
     },
     "execution_count": 43,
     "metadata": {},
     "output_type": "execute_result"
    }
   ],
   "execution_count": 43
  },
  {
   "metadata": {
    "ExecuteTime": {
     "end_time": "2024-09-14T05:09:41.258591Z",
     "start_time": "2024-09-14T05:09:41.256116Z"
    }
   },
   "cell_type": "code",
   "source": "id(a)",
   "id": "4e7ea8b224b49a8b",
   "outputs": [
    {
     "data": {
      "text/plain": [
       "4399832256"
      ]
     },
     "execution_count": 44,
     "metadata": {},
     "output_type": "execute_result"
    }
   ],
   "execution_count": 44
  },
  {
   "metadata": {},
   "cell_type": "code",
   "outputs": [],
   "execution_count": null,
   "source": "",
   "id": "dc8178c6d315dbd9"
  }
 ],
 "metadata": {
  "kernelspec": {
   "display_name": "Python 3",
   "language": "python",
   "name": "python3"
  },
  "language_info": {
   "codemirror_mode": {
    "name": "ipython",
    "version": 2
   },
   "file_extension": ".py",
   "mimetype": "text/x-python",
   "name": "python",
   "nbconvert_exporter": "python",
   "pygments_lexer": "ipython2",
   "version": "2.7.6"
  }
 },
 "nbformat": 4,
 "nbformat_minor": 5
}
