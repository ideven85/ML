{
 "cells": [
  {
   "cell_type": "code",
   "execution_count": 2,
   "id": "1b8f833f-5890-49bc-9c5e-518785bdaf26",
   "metadata": {
    "ExecuteTime": {
     "end_time": "2024-09-05T12:23:54.530700Z",
     "start_time": "2024-09-05T12:23:54.408622Z"
    },
    "execution": {
     "iopub.execute_input": "2024-09-09T12:22:10.475496Z",
     "iopub.status.busy": "2024-09-09T12:22:10.474969Z",
     "iopub.status.idle": "2024-09-09T12:22:10.482028Z",
     "shell.execute_reply": "2024-09-09T12:22:10.481020Z",
     "shell.execute_reply.started": "2024-09-09T12:22:10.475461Z"
    }
   },
   "outputs": [
    {
     "name": "stdout",
     "output_type": "stream",
     "text": [
      "['_MutableMapping__marker', '__abstractmethods__', '__class__', '__class_getitem__', '__contains__', '__delattr__', '__delitem__', '__dict__', '__dir__', '__doc__', '__eq__', '__format__', '__ge__', '__getattribute__', '__getitem__', '__getstate__', '__gt__', '__hash__', '__init__', '__init_subclass__', '__ior__', '__iter__', '__le__', '__len__', '__lt__', '__module__', '__ne__', '__new__', '__or__', '__reduce__', '__reduce_ex__', '__repr__', '__reversed__', '__ror__', '__setattr__', '__setitem__', '__sizeof__', '__slots__', '__str__', '__subclasshook__', '__weakref__', '_abc_impl', '_data', 'clear', 'copy', 'decodekey', 'decodevalue', 'encodekey', 'encodevalue', 'get', 'items', 'keys', 'pop', 'popitem', 'setdefault', 'update', 'values']\n",
      "HOMEBREW_PREFIX /opt/homebrew\n",
      "VIRTUALENVWRAPPER_WORKON_CD 1\n",
      "LC_ALL en_US.UTF-8\n",
      "LDFLAGS -L/opt/homebrew/opt/mpv-iina/lib\n",
      "HOMEBREW_REPOSITORY /opt/homebrew\n",
      "GSETTINGS_SCHEMA_DIR /opt/homebrew/Caskroom/miniconda/base/share/glib-2.0/schemas\n",
      "VIRTUALENVWRAPPER_PROJECT_FILENAME .project\n",
      "PATH /Users/deven/.virtualenvs/python_revision/bin:/opt/homebrew/Caskroom/miniconda/base/bin:/opt/homebrew/Caskroom/miniconda/base/condabin:/opt/homebrew/opt/unzip/bin:/Library/Java/JavaVirtualMachines/graalvm-jdk-21.0.4/Contents/Home/bin:/usr/local/bin:/opt/homebrew/Caskroom/redis-stack-server/7.4.0-v0/bin:/Users/deven/.pyenv/shims:/opt/homebrew/opt/postgresql@16/bin:/opt/homebrew/opt/postgresql@16/bin:/Users/deven/glassfish7/bin:/opt/homebrew/opt/llvm/bin:/opt/homebrew/opt/postgresql@16/bin:/opt/homebrew/opt/llvm/bin:/opt/homebrew/opt/curl/bin:/opt/homebrew/opt/llvm/bin:/opt/homebrew/opt/postgresql@16/bin:/opt/homebrew/opt/pyside@2/bin:/Library/Frameworks/Python.framework/Versions/3.12/bin:/opt/homebrew/opt/llvm/bin:/opt/homebrew/opt/postgresql@16/bin:/Users/deven/go/bin:/opt/homebrew/opt/llvm/bin:/opt/homebrew/opt/llvm/bin:/Users/deven/spark/bin:/opt/homebrew/opt/openjdk@11/bin:/opt/homebrew/opt/curl/bin:/Users/deven/.nvm/versions/node/v20.17.0/bin:/opt/local/bin:/opt/local/sbin:/Library/Frameworks/Python.framework/Versions/3.12/bin:/opt/homebrew/bin:/opt/homebrew/sbin:/usr/local/bin:/System/Cryptexes/App/usr/bin:/usr/bin:/bin:/usr/sbin:/sbin:/var/run/com.apple.security.cryptexd/codex.system/bootstrap/usr/local/bin:/var/run/com.apple.security.cryptexd/codex.system/bootstrap/usr/bin:/var/run/com.apple.security.cryptexd/codex.system/bootstrap/usr/appleinternal/bin:/Library/Apple/usr/bin:/usr/local/go/bin:/usr/local/go/bin\n",
      "CONDA_PREFIX /opt/homebrew/Caskroom/miniconda/base\n",
      "WORKON_HOME /Users/deven/.virtualenvs\n",
      "LOGNAME deven\n",
      "XPC_FLAGS 0x0\n",
      "__CF_USER_TEXT_ENCODING 0x1F5:0:0\n",
      "VIRTUALENVWRAPPER_VIRTUALENV /Library/Frameworks/Python.framework/Versions/3.12/bin/virtualenv\n",
      "PINECONE_API_KEY 587196c2-21ab-46a2-8954-542cc64fbdb3\n",
      "NVM_CD_FLAGS -q\n",
      "_CE_M \n",
      "NVM_DIR /Users/deven/.nvm\n",
      "VIRTUALENVWRAPPER_HOOK_DIR /Users/deven/.virtualenvs\n",
      "VIRTUAL_ENV /Users/deven/.virtualenvs/python_revision\n",
      "JAVA_HOME /Library/Java/JavaVirtualMachines/graalvm-jdk-21.0.4/Contents/Home\n",
      "CONDA_SHLVL 1\n",
      "CONDA_EXE /opt/homebrew/Caskroom/miniconda/base/bin/conda\n",
      "ZSH_HIGHLIGHT_HIGHLIGHTERS_DIR /opt/homebrew/share/zsh-syntax-highlighting/highlighters\n",
      "SDKMAN_DIR /Users/deven/.sdkman\n",
      "CONDA_DEFAULT_ENV base\n",
      "XPC_SERVICE_NAME application.com.jetbrains.pycharm.2560224.2561018\n",
      "--ServerApp.iopub_data_rate_limit 1000000000000\n",
      "VIRTUALENVWRAPPER_PYTHON /Library/Frameworks/Python.framework/Versions/3.12/bin/python3\n",
      "HOMEBREW_CELLAR /opt/homebrew/Cellar\n",
      "NVM_BIN /Users/deven/.nvm/versions/node/v20.17.0/bin\n",
      "CONDA_PROMPT_MODIFIER (base) \n",
      "GSETTINGS_SCHEMA_DIR_CONDA_BACKUP \n",
      "GOPATH /usr/local/go\n",
      "COMMAND_MODE unix2003\n",
      "PYENV_ROOT /Users/deven/.pyenv\n",
      "INFOPATH /opt/homebrew/share/info:\n",
      "SHELL /bin/zsh\n",
      "PYTHONPATH /Users/deven/Developer/python_revision\n",
      "TMPDIR /var/folders/dv/vnj6rwl96_9b5515wjwdc_bh0000gn/T/\n",
      "__CFBundleIdentifier com.jetbrains.pycharm\n",
      "PKG_CONFIG_PATH /opt/homebrew/opt/mpv-iina/lib/pkgconfig\n",
      "HOME /Users/deven\n",
      "NVM_INC /Users/deven/.nvm/versions/node/v20.17.0/include/node\n",
      "_CE_CONDA \n",
      "LANG en_US.UTF-8\n",
      "OPENAI_API_KEY sk-proj-X531RTjXwl6Z9HjRUPFET3BlbkFJhndBmR0ZTpXOrNKN1KQu\n",
      "CPPFLAGS -I/opt/homebrew/opt/mpv-iina/include\n",
      "VIRTUALENVWRAPPER_SCRIPT /Library/Frameworks/Python.framework/Versions/3.12/bin/virtualenvwrapper.sh\n",
      "LC_CTYPE en_US.UTF-8\n",
      "LANGUAGE \n",
      "CATALINA_HOME /Users/deven/tomcat\n",
      "PS1 (python_revision) \n",
      "SSH_AUTH_SOCK /private/tmp/com.apple.launchd.NZr0tyZu1R/Listeners\n",
      "PYENV_SHELL zsh\n",
      "OLDPWD /\n",
      "USER deven\n",
      "PWD /Users/deven/Developer/python_revision\n",
      "CONDA_PYTHON_EXE /opt/homebrew/Caskroom/miniconda/base/bin/python\n",
      "JPY_SESSION_NAME /Users/deven/Developer/python_revision/notebooks/revision.ipynb\n",
      "JPY_PARENT_PID 41323\n",
      "PYDEVD_USE_FRAME_EVAL NO\n",
      "TERM xterm-color\n",
      "CLICOLOR 1\n",
      "FORCE_COLOR 1\n",
      "CLICOLOR_FORCE 1\n",
      "PAGER cat\n",
      "GIT_PAGER cat\n",
      "MPLBACKEND module://matplotlib_inline.backend_inline\n"
     ]
    }
   ],
   "source": [
    "import collections\n",
    "import sys, os\n",
    "\n",
    "print(dir(os.environ))\n",
    "for key, value in os.environ.items():\n",
    "    print(key, value)"
   ]
  },
  {
   "cell_type": "code",
   "execution_count": 3,
   "id": "f458afa3-ce7e-4930-a0cd-c15fb074d705",
   "metadata": {
    "ExecuteTime": {
     "end_time": "2024-09-05T11:53:23.932963Z",
     "start_time": "2024-09-05T11:53:23.930865Z"
    },
    "execution": {
     "iopub.execute_input": "2024-09-09T12:22:12.248234Z",
     "iopub.status.busy": "2024-09-09T12:22:12.247790Z",
     "iopub.status.idle": "2024-09-09T12:22:12.251520Z",
     "shell.execute_reply": "2024-09-09T12:22:12.250972Z",
     "shell.execute_reply.started": "2024-09-09T12:22:12.248207Z"
    }
   },
   "outputs": [],
   "source": [
    "cat = \"cat\"\n",
    "x = cat"
   ]
  },
  {
   "cell_type": "code",
   "execution_count": 4,
   "id": "9dc1bb72-b9b2-4be3-9272-22a8a8c4dff2",
   "metadata": {
    "execution": {
     "iopub.execute_input": "2024-09-09T12:22:13.661623Z",
     "iopub.status.busy": "2024-09-09T12:22:13.661260Z",
     "iopub.status.idle": "2024-09-09T12:22:13.904163Z",
     "shell.execute_reply": "2024-09-09T12:22:13.903930Z",
     "shell.execute_reply.started": "2024-09-09T12:22:13.661603Z"
    }
   },
   "outputs": [
    {
     "name": "stdout",
     "output_type": "stream",
     "text": [
      "Using matplotlib backend: module://matplotlib_inline.backend_inline\n"
     ]
    }
   ],
   "source": [
    "%matplotlib"
   ]
  },
  {
   "cell_type": "code",
   "execution_count": 5,
   "id": "01ec3bfd-2500-409d-8ade-51d8ee9780a1",
   "metadata": {
    "execution": {
     "iopub.execute_input": "2024-09-09T12:22:27.556905Z",
     "iopub.status.busy": "2024-09-09T12:22:27.556203Z",
     "iopub.status.idle": "2024-09-09T12:22:27.560684Z",
     "shell.execute_reply": "2024-09-09T12:22:27.560183Z",
     "shell.execute_reply.started": "2024-09-09T12:22:27.556869Z"
    }
   },
   "outputs": [],
   "source": [
    "import matplotlib.pyplot as plt\n",
    "\n",
    "pl"
   ]
  },
  {
   "cell_type": "code",
   "execution_count": 3,
   "id": "6d6f2951-c1b4-418b-a9f3-fbfe51eb6fd7",
   "metadata": {
    "ExecuteTime": {
     "end_time": "2024-09-05T11:53:24.547867Z",
     "start_time": "2024-09-05T11:53:24.544446Z"
    }
   },
   "outputs": [
    {
     "data": {
      "text/plain": [
       "True"
      ]
     },
     "execution_count": 3,
     "metadata": {},
     "output_type": "execute_result"
    }
   ],
   "source": [
    "x is cat"
   ]
  },
  {
   "cell_type": "code",
   "execution_count": 4,
   "id": "961d9126-e27e-4834-a9e2-6e31fb02d176",
   "metadata": {
    "ExecuteTime": {
     "end_time": "2024-09-05T11:53:25.103407Z",
     "start_time": "2024-09-05T11:53:25.100785Z"
    }
   },
   "outputs": [
    {
     "name": "stdout",
     "output_type": "stream",
     "text": [
      "4374931824\n",
      "4374931824\n"
     ]
    }
   ],
   "source": [
    "print(id(x))\n",
    "print(id(cat))"
   ]
  },
  {
   "cell_type": "code",
   "execution_count": 5,
   "id": "00faf308-8bc7-42a9-a99f-0041b4878ee8",
   "metadata": {
    "ExecuteTime": {
     "end_time": "2024-09-05T11:53:25.579202Z",
     "start_time": "2024-09-05T11:53:25.577251Z"
    }
   },
   "outputs": [],
   "source": [
    "n1 = 2\n",
    "l = [cat, n1]"
   ]
  },
  {
   "cell_type": "code",
   "execution_count": 6,
   "id": "df831dcc-75ba-41e4-b0ba-80fb99af854a",
   "metadata": {
    "ExecuteTime": {
     "end_time": "2024-09-05T11:53:26.019246Z",
     "start_time": "2024-09-05T11:53:26.017182Z"
    }
   },
   "outputs": [
    {
     "data": {
      "text/plain": [
       "['cat', 2]"
      ]
     },
     "execution_count": 6,
     "metadata": {},
     "output_type": "execute_result"
    }
   ],
   "source": [
    "1 + 2"
   ]
  },
  {
   "cell_type": "code",
   "execution_count": 7,
   "id": "e5176689-fe0a-4937-8ef1-4c2ffa646ffb",
   "metadata": {
    "ExecuteTime": {
     "end_time": "2024-09-05T11:53:26.376858Z",
     "start_time": "2024-09-05T11:53:26.374258Z"
    }
   },
   "outputs": [
    {
     "data": {
      "text/plain": [
       "{2, 'cat'}"
      ]
     },
     "execution_count": 7,
     "metadata": {},
     "output_type": "execute_result"
    }
   ],
   "source": [
    "set(l)"
   ]
  },
  {
   "cell_type": "code",
   "execution_count": 8,
   "id": "11c5d288-0f78-4ab4-8b70-9b9de6f6f84d",
   "metadata": {
    "ExecuteTime": {
     "end_time": "2024-09-05T11:53:26.814183Z",
     "start_time": "2024-09-05T11:53:26.812344Z"
    }
   },
   "outputs": [
    {
     "name": "stdout",
     "output_type": "stream",
     "text": [
      "4466235136\n"
     ]
    }
   ],
   "source": [
    "l2 = [l, 3]\n",
    "print(id(l2))"
   ]
  },
  {
   "cell_type": "code",
   "execution_count": 9,
   "id": "f77c33d5-2421-4c2f-9be7-39fd1872f257",
   "metadata": {
    "ExecuteTime": {
     "end_time": "2024-09-05T11:53:27.769577Z",
     "start_time": "2024-09-05T11:53:27.767745Z"
    }
   },
   "outputs": [],
   "source": [
    "l2.extend(l)"
   ]
  },
  {
   "cell_type": "code",
   "execution_count": 10,
   "id": "b41a9a77-7ad7-4113-871d-8ef7e52829d9",
   "metadata": {
    "ExecuteTime": {
     "end_time": "2024-09-05T11:53:28.963876Z",
     "start_time": "2024-09-05T11:53:28.961731Z"
    }
   },
   "outputs": [
    {
     "name": "stdout",
     "output_type": "stream",
     "text": [
      "[['cat', 2], 3, 'cat', 2]\n"
     ]
    }
   ],
   "source": [
    "print(l2)"
   ]
  },
  {
   "cell_type": "code",
   "execution_count": 11,
   "id": "443abd97-99ce-4401-bb24-7a8b7e4e8dbf",
   "metadata": {
    "ExecuteTime": {
     "end_time": "2024-09-05T11:53:29.482581Z",
     "start_time": "2024-09-05T11:53:29.480608Z"
    }
   },
   "outputs": [
    {
     "name": "stdout",
     "output_type": "stream",
     "text": [
      "4466235136\n"
     ]
    }
   ],
   "source": [
    "print(id(l2))"
   ]
  },
  {
   "cell_type": "code",
   "execution_count": 12,
   "id": "ae790c0f-9163-4c6c-a5be-afab08952065",
   "metadata": {
    "ExecuteTime": {
     "end_time": "2024-09-05T11:53:30.283439Z",
     "start_time": "2024-09-05T11:53:30.281247Z"
    }
   },
   "outputs": [],
   "source": [
    "l3 = l2[:]"
   ]
  },
  {
   "cell_type": "code",
   "execution_count": 22,
   "id": "8461eefc-cf0f-4bc8-832d-eb0cee3a4f7f",
   "metadata": {},
   "outputs": [
    {
     "data": {
      "text/plain": [
       "['cat', 2]"
      ]
     },
     "execution_count": 22,
     "metadata": {},
     "output_type": "execute_result"
    }
   ],
   "source": [
    "l2[0]"
   ]
  },
  {
   "cell_type": "code",
   "execution_count": 23,
   "id": "82aebd91-753b-45ea-87a6-7e8ceb0295b2",
   "metadata": {},
   "outputs": [
    {
     "data": {
      "text/plain": [
       "True"
      ]
     },
     "execution_count": 23,
     "metadata": {},
     "output_type": "execute_result"
    }
   ],
   "source": [
    "l is l2[0]"
   ]
  },
  {
   "cell_type": "code",
   "execution_count": 4,
   "id": "49756a63-4066-4677-9773-c97a9c3ad190",
   "metadata": {
    "ExecuteTime": {
     "end_time": "2024-09-05T12:00:11.138196Z",
     "start_time": "2024-09-05T12:00:11.134206Z"
    }
   },
   "outputs": [
    {
     "name": "stdout",
     "output_type": "stream",
     "text": [
      "Done\n"
     ]
    }
   ],
   "source": [
    "import os\n",
    "\n",
    "\n",
    "def rename(old_name, new_name):\n",
    "    name, extension = old_name.split(\".\") if \".\" in old_name else old_name, None\n",
    "    print(name, extension)\n",
    "    os.rename(\n",
    "        os.path.join(folder, old_name), os.path.join(folder, new_name + \".\" + extension)\n",
    "    )\n",
    "\n",
    "\n",
    "def renaming_files(folder, new_name, index=1):\n",
    "\n",
    "    for file in os.listdir(folder):\n",
    "        children = os.path.join(folder, file)\n",
    "        if os.path.isfile(children) and not children.split(\".\")[-1] == \"DS_Store\":\n",
    "            # if children.endswith(\".pdf\"):\n",
    "            name, extension = children.split(\".\")\n",
    "\n",
    "            if len(name) and len(extension):\n",
    "\n",
    "                name1 = new_name + str(index) + \".\" + extension\n",
    "\n",
    "            elif len(name):\n",
    "                name1 = new_name + str(index)\n",
    "            else:\n",
    "                continue\n",
    "            os.rename(children, os.path.join(folder, name1))\n",
    "            index += 1\n",
    "\n",
    "        elif os.path.isdir(children):\n",
    "            renaming_files(children, new_name, index)\n",
    "\n",
    "\n",
    "print(\"Done\")"
   ]
  },
  {
   "cell_type": "code",
   "execution_count": 5,
   "id": "c9bb9d09-8b10-42a9-85cd-5c4fae530402",
   "metadata": {},
   "outputs": [],
   "source": [
    "f = os.path.isfile(\"revision.ipynb\")"
   ]
  },
  {
   "cell_type": "code",
   "execution_count": 6,
   "id": "7e976c09-8a12-460b-88f6-893082a7e868",
   "metadata": {
    "ExecuteTime": {
     "end_time": "2024-09-05T12:00:18.544486Z",
     "start_time": "2024-09-05T12:00:18.542022Z"
    }
   },
   "outputs": [],
   "source": [
    "folder = os.path.expanduser(\"~/Developer\")"
   ]
  },
  {
   "cell_type": "code",
   "execution_count": 47,
   "id": "d5ec61e3-63cf-4e03-b60e-62d3ed2d5d0e",
   "metadata": {},
   "outputs": [],
   "source": [
    "hello = os.path.join(folder, \"hello.txt\")"
   ]
  },
  {
   "cell_type": "code",
   "execution_count": 48,
   "id": "533df46a-83b9-470e-9f13-31bf726a111e",
   "metadata": {},
   "outputs": [
    {
     "name": "stdout",
     "output_type": "stream",
     "text": [
      "<class 'str'>\n"
     ]
    }
   ],
   "source": [
    "hello\n",
    "print(type(hello))"
   ]
  },
  {
   "cell_type": "code",
   "execution_count": 39,
   "id": "c553f6fc-226a-4761-b36d-8d79228f2f78",
   "metadata": {},
   "outputs": [],
   "source": [
    "hello1 = os.rename(\n",
    "    os.path.join(folder, \"hello1.txt\"), os.path.join(folder, \"hello2.txt\")\n",
    ")"
   ]
  },
  {
   "cell_type": "code",
   "execution_count": 92,
   "id": "4e7ea5e8-76da-4870-b2df-f53a6f487123",
   "metadata": {},
   "outputs": [
    {
     "name": "stdout",
     "output_type": "stream",
     "text": [
      "/Users/deven/Developer/hello txt\n"
     ]
    }
   ],
   "source": [
    "name, extension = hello.split(\".\")\n",
    "print(name, extension)"
   ]
  },
  {
   "cell_type": "code",
   "execution_count": 56,
   "id": "cb7dffea-a599-4ff5-9441-396157f3eec6",
   "metadata": {},
   "outputs": [],
   "source": [
    "new_name = \"hello1\"\n",
    "name = new_name\n",
    "os.rename(os.path.join(folder, hello), os.path.join(folder, name + \".\" + extension))"
   ]
  },
  {
   "cell_type": "code",
   "execution_count": 18,
   "id": "c036f462-9c9e-4b54-9210-77748c056b84",
   "metadata": {
    "ExecuteTime": {
     "end_time": "2024-09-05T12:00:30.391763Z",
     "start_time": "2024-09-05T12:00:30.389058Z"
    }
   },
   "outputs": [],
   "source": [
    "dummy = os.path.join(folder, \"Dummy\")"
   ]
  },
  {
   "cell_type": "code",
   "execution_count": 76,
   "id": "b8719d48-080d-4034-8215-7b232bde2546",
   "metadata": {},
   "outputs": [
    {
     "data": {
      "text/plain": [
       "'/Users/deven/Developer/Dummy'"
      ]
     },
     "execution_count": 76,
     "metadata": {},
     "output_type": "execute_result"
    }
   ],
   "source": [
    "dummy"
   ]
  },
  {
   "cell_type": "code",
   "execution_count": 20,
   "id": "8ff70c6d-63c4-4a80-ba30-5fbca10ed362",
   "metadata": {
    "ExecuteTime": {
     "end_time": "2024-09-05T12:00:56.222139Z",
     "start_time": "2024-09-05T12:00:56.216599Z"
    }
   },
   "outputs": [],
   "source": [
    "renaming_files(dummy, \"x\")"
   ]
  },
  {
   "cell_type": "code",
   "execution_count": 78,
   "id": "045896b5-26e6-4a5f-b413-929645e28feb",
   "metadata": {},
   "outputs": [
    {
     "data": {
      "text/plain": [
       "True"
      ]
     },
     "execution_count": 78,
     "metadata": {},
     "output_type": "execute_result"
    }
   ],
   "source": [
    "hello.endswith(\".txt\")"
   ]
  },
  {
   "cell_type": "code",
   "execution_count": 22,
   "id": "977c0e4f-84d6-40d8-8f76-3bcd8ec12969",
   "metadata": {
    "ExecuteTime": {
     "end_time": "2024-09-05T12:02:07.067066Z",
     "start_time": "2024-09-05T12:02:07.063591Z"
    }
   },
   "outputs": [],
   "source": [
    "def list_files(path, ends_with_suffix):\n",
    "\n",
    "    if not path:\n",
    "        yield []\n",
    "        return\n",
    "    if not os.access(path, 700):\n",
    "        yield []\n",
    "        return\n",
    "\n",
    "    elif os.path.isdir(path):\n",
    "        for f in os.listdir(path):\n",
    "            children = os.path.join(path, f)\n",
    "            if os.path.isdir(children):\n",
    "                yield from list_files(children, ends_with_suffix)\n",
    "            elif children.split(\".\")[-1] == ends_with_suffix:\n",
    "                yield children\n",
    "\n",
    "    elif path.split(\".\")[-1] == ends_with_suffix:\n",
    "        yield path\n",
    "    else:\n",
    "        yield []"
   ]
  },
  {
   "cell_type": "code",
   "execution_count": 23,
   "id": "adfc3a06-1c56-44d3-8fb3-8998b9178a67",
   "metadata": {
    "ExecuteTime": {
     "end_time": "2024-09-05T12:02:08.571710Z",
     "start_time": "2024-09-05T12:02:08.567897Z"
    }
   },
   "outputs": [
    {
     "name": "stdout",
     "output_type": "stream",
     "text": [
      "['/Users/deven/Developer/Dummy/x6.pdf', '/Users/deven/Developer/Dummy/x5.pdf', '/Users/deven/Developer/Dummy/dummy1/x9.pdf', '/Users/deven/Developer/Dummy/x10.pdf', '/Users/deven/Developer/Dummy/x11.pdf']\n"
     ]
    }
   ],
   "source": [
    "print(list(list_files(os.path.join(folder, \"Dummy\"), \"pdf\")))"
   ]
  },
  {
   "cell_type": "code",
   "execution_count": 106,
   "id": "f7011a78-91cd-4574-81ff-c99b30f35136",
   "metadata": {},
   "outputs": [],
   "source": [
    "name, extension = \".DS_Store\".split(\".\")"
   ]
  },
  {
   "cell_type": "code",
   "execution_count": 107,
   "id": "c3ed59f2-11e1-48ca-8107-07bfcd56f5b6",
   "metadata": {},
   "outputs": [
    {
     "data": {
      "text/plain": [
       "('', 'DS_Store')"
      ]
     },
     "execution_count": 107,
     "metadata": {},
     "output_type": "execute_result"
    }
   ],
   "source": [
    "name, extension"
   ]
  },
  {
   "cell_type": "code",
   "execution_count": 108,
   "id": "511cd802-eb4a-4cb7-83b4-f015e946bd5f",
   "metadata": {},
   "outputs": [
    {
     "data": {
      "text/plain": [
       "0"
      ]
     },
     "execution_count": 108,
     "metadata": {},
     "output_type": "execute_result"
    }
   ],
   "source": [
    "len(name)"
   ]
  },
  {
   "cell_type": "code",
   "execution_count": 115,
   "id": "be72241c-92cc-47ec-a144-a0b016f482ee",
   "metadata": {},
   "outputs": [],
   "source": [
    "if 0:\n",
    "    print(\"Hi\")"
   ]
  },
  {
   "cell_type": "code",
   "execution_count": 120,
   "id": "8cf2a9a6-f1c6-4e88-b0d6-e5d50b8e3b53",
   "metadata": {},
   "outputs": [
    {
     "name": "stdout",
     "output_type": "stream",
     "text": [
      "[[1, 2, 3], [1, 2, 3], [1, 2, 3]] 4\n"
     ]
    }
   ],
   "source": [
    "count = 1\n",
    "a = [1, 2, 3]\n",
    "b = []\n",
    "for i in range(3):\n",
    "    b.append(a)\n",
    "    count += 1\n",
    "print(b, count)"
   ]
  },
  {
   "cell_type": "code",
   "execution_count": 121,
   "id": "f6602051-9058-49e1-b20e-010adc735671",
   "metadata": {},
   "outputs": [],
   "source": [
    "b = [a, a, a]"
   ]
  },
  {
   "cell_type": "code",
   "execution_count": 123,
   "id": "a2246f7c-9938-42e1-9e2f-61bc1b3a6e44",
   "metadata": {},
   "outputs": [],
   "source": [
    "b = [a] * 3"
   ]
  },
  {
   "cell_type": "code",
   "execution_count": 124,
   "id": "9c88ecbf-2083-4a21-87f8-3a5db4a7c3ff",
   "metadata": {},
   "outputs": [
    {
     "name": "stdout",
     "output_type": "stream",
     "text": [
      "[[1, 2, 3], [1, 2, 3], [1, 2, 3]]\n"
     ]
    }
   ],
   "source": [
    "print(b)"
   ]
  },
  {
   "cell_type": "code",
   "execution_count": 127,
   "id": "be9382c5-8394-47b4-8c54-5ed6fd09003e",
   "metadata": {},
   "outputs": [
    {
     "name": "stdout",
     "output_type": "stream",
     "text": [
      "4326351432\n",
      "4326351432\n"
     ]
    }
   ],
   "source": [
    "x = [1, 2, 3]\n",
    "y = [4, 5]\n",
    "print(id(x[0]))\n",
    "y.extend(x)\n",
    "print(id(y[2]))\n",
    "assert id(x[0]) == id(y[2])"
   ]
  },
  {
   "cell_type": "code",
   "execution_count": 24,
   "id": "dfb20530-9ea5-4875-8235-23c7201886dc",
   "metadata": {
    "ExecuteTime": {
     "end_time": "2024-09-05T12:04:39.269181Z",
     "start_time": "2024-09-05T12:04:39.264211Z"
    }
   },
   "outputs": [
    {
     "name": "stdout",
     "output_type": "stream",
     "text": [
      "model.0.w\n",
      "model.0.b\n",
      "model.1.w\n",
      "model.1.b\n"
     ]
    }
   ],
   "source": [
    "from mlx.utils import tree_map_with_path\n",
    "\n",
    "tree = {\"model\": [{\"w\": 0, \"b\": 1}, {\"w\": 0, \"b\": 1}]}\n",
    "new_tree = tree_map_with_path(lambda path, _: print(path), tree)"
   ]
  },
  {
   "cell_type": "code",
   "execution_count": 27,
   "id": "40c73c82-016c-4a8f-98f2-520ab481b023",
   "metadata": {
    "ExecuteTime": {
     "end_time": "2024-09-05T12:05:22.392762Z",
     "start_time": "2024-09-05T12:05:22.390440Z"
    }
   },
   "outputs": [
    {
     "data": {
      "text/plain": [
       "[{'w': None, 'b': None}, {'w': None, 'b': None}]"
      ]
     },
     "execution_count": 27,
     "metadata": {},
     "output_type": "execute_result"
    }
   ],
   "source": [
    "new_tree[\"model\"]"
   ]
  },
  {
   "cell_type": "code",
   "execution_count": 28,
   "id": "1681846f-0693-49f0-8eb0-f88a60c1d571",
   "metadata": {
    "ExecuteTime": {
     "end_time": "2024-09-05T12:05:54.298314Z",
     "start_time": "2024-09-05T12:05:54.295948Z"
    }
   },
   "outputs": [],
   "source": [
    "import ast\n",
    "from ast import literal_eval"
   ]
  },
  {
   "cell_type": "code",
   "execution_count": 49,
   "id": "e0a1c5cc717fc79c",
   "metadata": {
    "ExecuteTime": {
     "end_time": "2024-09-05T12:13:47.218342Z",
     "start_time": "2024-09-05T12:13:47.215422Z"
    }
   },
   "outputs": [],
   "source": [
    "x = [1, 2, 3]\n",
    "y = (4, 5)\n",
    "x.extend(y)"
   ]
  },
  {
   "cell_type": "code",
   "execution_count": 33,
   "id": "69291ffc5c69f999",
   "metadata": {
    "ExecuteTime": {
     "end_time": "2024-09-05T12:08:07.130803Z",
     "start_time": "2024-09-05T12:08:07.127121Z"
    }
   },
   "outputs": [
    {
     "data": {
      "text/plain": [
       "[1, 2, 3, 4, 5]"
      ]
     },
     "execution_count": 33,
     "metadata": {},
     "output_type": "execute_result"
    }
   ],
   "source": [
    "x"
   ]
  },
  {
   "cell_type": "code",
   "execution_count": 34,
   "id": "23efc5c9f6c0837a",
   "metadata": {
    "ExecuteTime": {
     "end_time": "2024-09-05T12:08:36.098278Z",
     "start_time": "2024-09-05T12:08:36.094820Z"
    }
   },
   "outputs": [
    {
     "data": {
      "text/plain": [
       "1"
      ]
     },
     "execution_count": 34,
     "metadata": {},
     "output_type": "execute_result"
    }
   ],
   "source": [
    "tuple1 = (1, 2, 3)\n",
    "tuple1[0]"
   ]
  },
  {
   "cell_type": "code",
   "execution_count": 35,
   "id": "809fe98bbcddc45",
   "metadata": {
    "ExecuteTime": {
     "end_time": "2024-09-05T12:08:59.853952Z",
     "start_time": "2024-09-05T12:08:59.851029Z"
    }
   },
   "outputs": [],
   "source": [
    "t2 = tuple(list(range(1, 10, 3)))"
   ]
  },
  {
   "cell_type": "code",
   "execution_count": 36,
   "id": "1e2c6d23cbc324b",
   "metadata": {
    "ExecuteTime": {
     "end_time": "2024-09-05T12:09:12.498347Z",
     "start_time": "2024-09-05T12:09:12.494469Z"
    }
   },
   "outputs": [
    {
     "data": {
      "text/plain": [
       "(1, 2, 3, 1, 4, 7)"
      ]
     },
     "execution_count": 36,
     "metadata": {},
     "output_type": "execute_result"
    }
   ],
   "source": [
    "tuple1 + t2"
   ]
  },
  {
   "cell_type": "code",
   "execution_count": 37,
   "id": "9127fc40afcd51f3",
   "metadata": {
    "ExecuteTime": {
     "end_time": "2024-09-05T12:09:35.241267Z",
     "start_time": "2024-09-05T12:09:35.238620Z"
    }
   },
   "outputs": [],
   "source": [
    "tuple1 += t2"
   ]
  },
  {
   "cell_type": "code",
   "execution_count": 40,
   "id": "83d442783214c2a1",
   "metadata": {
    "ExecuteTime": {
     "end_time": "2024-09-05T12:09:58.466366Z",
     "start_time": "2024-09-05T12:09:58.464098Z"
    }
   },
   "outputs": [
    {
     "data": {
      "text/plain": [
       "2"
      ]
     },
     "execution_count": 40,
     "metadata": {},
     "output_type": "execute_result"
    }
   ],
   "source": [
    "tuple1.count(1)"
   ]
  },
  {
   "cell_type": "code",
   "execution_count": 41,
   "id": "e9248962c820c70f",
   "metadata": {
    "ExecuteTime": {
     "end_time": "2024-09-05T12:10:15.135623Z",
     "start_time": "2024-09-05T12:10:15.133151Z"
    }
   },
   "outputs": [
    {
     "data": {
      "text/plain": [
       "1"
      ]
     },
     "execution_count": 41,
     "metadata": {},
     "output_type": "execute_result"
    }
   ],
   "source": [
    "x.count(1)"
   ]
  },
  {
   "cell_type": "code",
   "execution_count": 77,
   "id": "6b7b9b3a9e0f39fe",
   "metadata": {
    "ExecuteTime": {
     "end_time": "2024-09-05T12:28:45.324384Z",
     "start_time": "2024-09-05T12:28:45.322216Z"
    }
   },
   "outputs": [],
   "source": [
    "from array import array\n",
    "\n",
    "a = array(\"b\", [1, 2, 3])"
   ]
  },
  {
   "cell_type": "code",
   "execution_count": 79,
   "id": "12383f79df052eb6",
   "metadata": {
    "ExecuteTime": {
     "end_time": "2024-09-05T12:29:09.032070Z",
     "start_time": "2024-09-05T12:29:09.029308Z"
    }
   },
   "outputs": [
    {
     "data": {
      "text/plain": [
       "['__add__',\n",
       " '__buffer__',\n",
       " '__class__',\n",
       " '__class_getitem__',\n",
       " '__contains__',\n",
       " '__copy__',\n",
       " '__deepcopy__',\n",
       " '__delattr__',\n",
       " '__delitem__',\n",
       " '__dir__',\n",
       " '__doc__',\n",
       " '__eq__',\n",
       " '__format__',\n",
       " '__ge__',\n",
       " '__getattribute__',\n",
       " '__getitem__',\n",
       " '__getstate__',\n",
       " '__gt__',\n",
       " '__hash__',\n",
       " '__iadd__',\n",
       " '__imul__',\n",
       " '__init__',\n",
       " '__init_subclass__',\n",
       " '__iter__',\n",
       " '__le__',\n",
       " '__len__',\n",
       " '__lt__',\n",
       " '__module__',\n",
       " '__mul__',\n",
       " '__ne__',\n",
       " '__new__',\n",
       " '__reduce__',\n",
       " '__reduce_ex__',\n",
       " '__release_buffer__',\n",
       " '__repr__',\n",
       " '__rmul__',\n",
       " '__setattr__',\n",
       " '__setitem__',\n",
       " '__sizeof__',\n",
       " '__str__',\n",
       " '__subclasshook__',\n",
       " 'append',\n",
       " 'buffer_info',\n",
       " 'byteswap',\n",
       " 'count',\n",
       " 'extend',\n",
       " 'frombytes',\n",
       " 'fromfile',\n",
       " 'fromlist',\n",
       " 'fromunicode',\n",
       " 'index',\n",
       " 'insert',\n",
       " 'itemsize',\n",
       " 'pop',\n",
       " 'remove',\n",
       " 'reverse',\n",
       " 'tobytes',\n",
       " 'tofile',\n",
       " 'tolist',\n",
       " 'tounicode',\n",
       " 'typecode']"
      ]
     },
     "execution_count": 79,
     "metadata": {},
     "output_type": "execute_result"
    }
   ],
   "source": [
    "dir(a)"
   ]
  },
  {
   "cell_type": "code",
   "execution_count": 50,
   "id": "8660cfc55139bb9e",
   "metadata": {
    "ExecuteTime": {
     "end_time": "2024-09-05T12:13:52.865490Z",
     "start_time": "2024-09-05T12:13:52.863275Z"
    }
   },
   "outputs": [],
   "source": [
    "x.append(tuple1)"
   ]
  },
  {
   "cell_type": "code",
   "execution_count": 51,
   "id": "1a60035dcb043f63",
   "metadata": {
    "ExecuteTime": {
     "end_time": "2024-09-05T12:13:56.257066Z",
     "start_time": "2024-09-05T12:13:56.252963Z"
    }
   },
   "outputs": [
    {
     "data": {
      "text/plain": [
       "[1, 2, 3, 4, 5, (1, 2, 3, 1, 4, 7)]"
      ]
     },
     "execution_count": 51,
     "metadata": {},
     "output_type": "execute_result"
    }
   ],
   "source": [
    "x"
   ]
  },
  {
   "cell_type": "code",
   "execution_count": 52,
   "id": "3ba39ba53c54cab",
   "metadata": {
    "ExecuteTime": {
     "end_time": "2024-09-05T12:14:08.452976Z",
     "start_time": "2024-09-05T12:14:08.450763Z"
    }
   },
   "outputs": [],
   "source": [
    "x = y"
   ]
  },
  {
   "cell_type": "code",
   "execution_count": 53,
   "id": "d5b35a43011757c1",
   "metadata": {
    "ExecuteTime": {
     "end_time": "2024-09-05T12:14:21.120471Z",
     "start_time": "2024-09-05T12:14:21.117302Z"
    }
   },
   "outputs": [],
   "source": [
    "x = [1, 2, 3]"
   ]
  },
  {
   "cell_type": "code",
   "execution_count": 54,
   "id": "6ec9f6e636b43ed0",
   "metadata": {
    "ExecuteTime": {
     "end_time": "2024-09-05T12:14:26.457056Z",
     "start_time": "2024-09-05T12:14:26.454477Z"
    }
   },
   "outputs": [],
   "source": [
    "x.extend(tuple1)"
   ]
  },
  {
   "cell_type": "code",
   "execution_count": 55,
   "id": "8d68c1019d176f38",
   "metadata": {
    "ExecuteTime": {
     "end_time": "2024-09-05T12:14:28.143022Z",
     "start_time": "2024-09-05T12:14:28.139867Z"
    }
   },
   "outputs": [
    {
     "data": {
      "text/plain": [
       "[1, 2, 3, 1, 2, 3, 1, 4, 7]"
      ]
     },
     "execution_count": 55,
     "metadata": {},
     "output_type": "execute_result"
    }
   ],
   "source": [
    "x"
   ]
  },
  {
   "cell_type": "code",
   "execution_count": 57,
   "id": "358a5c334894952",
   "metadata": {
    "ExecuteTime": {
     "end_time": "2024-09-05T12:14:58.233336Z",
     "start_time": "2024-09-05T12:14:58.230669Z"
    }
   },
   "outputs": [],
   "source": [
    "set_x = set(x)"
   ]
  },
  {
   "cell_type": "code",
   "execution_count": 58,
   "id": "91819dbbccff8ccc",
   "metadata": {
    "ExecuteTime": {
     "end_time": "2024-09-05T12:15:08.150306Z",
     "start_time": "2024-09-05T12:15:08.142591Z"
    }
   },
   "outputs": [
    {
     "ename": "TypeError",
     "evalue": "'set' object is not subscriptable",
     "output_type": "error",
     "traceback": [
      "\u001b[0;31m---------------------------------------------------------------------------\u001b[0m",
      "\u001b[0;31mTypeError\u001b[0m                                 Traceback (most recent call last)",
      "Cell \u001b[0;32mIn[58], line 1\u001b[0m\n\u001b[0;32m----> 1\u001b[0m \u001b[43mset_x\u001b[49m\u001b[43m[\u001b[49m\u001b[38;5;241;43m0\u001b[39;49m\u001b[43m]\u001b[49m\n",
      "\u001b[0;31mTypeError\u001b[0m: 'set' object is not subscriptable"
     ]
    }
   ],
   "source": [
    "set_x[0]"
   ]
  },
  {
   "cell_type": "code",
   "execution_count": 59,
   "id": "566cb8444514b614",
   "metadata": {
    "ExecuteTime": {
     "end_time": "2024-09-05T12:15:28.757620Z",
     "start_time": "2024-09-05T12:15:28.754268Z"
    }
   },
   "outputs": [
    {
     "data": {
      "text/plain": [
       "<set_iterator at 0x10d024a00>"
      ]
     },
     "execution_count": 59,
     "metadata": {},
     "output_type": "execute_result"
    }
   ],
   "source": [
    "iter(set_x)"
   ]
  },
  {
   "cell_type": "code",
   "execution_count": 60,
   "id": "e4acaf2c7a2a94f9",
   "metadata": {
    "ExecuteTime": {
     "end_time": "2024-09-05T12:15:51.384520Z",
     "start_time": "2024-09-05T12:15:51.372716Z"
    }
   },
   "outputs": [
    {
     "ename": "AttributeError",
     "evalue": "'set' object has no attribute '__dict__'",
     "output_type": "error",
     "traceback": [
      "\u001b[0;31m---------------------------------------------------------------------------\u001b[0m",
      "\u001b[0;31mAttributeError\u001b[0m                            Traceback (most recent call last)",
      "Cell \u001b[0;32mIn[60], line 1\u001b[0m\n\u001b[0;32m----> 1\u001b[0m \u001b[43mset_x\u001b[49m\u001b[38;5;241;43m.\u001b[39;49m\u001b[38;5;18;43m__dict__\u001b[39;49m[\u001b[38;5;124m'\u001b[39m\u001b[38;5;124ma\u001b[39m\u001b[38;5;124m'\u001b[39m]\u001b[38;5;241m=\u001b[39m\u001b[38;5;241m1\u001b[39m\n",
      "\u001b[0;31mAttributeError\u001b[0m: 'set' object has no attribute '__dict__'"
     ]
    }
   ],
   "source": [
    "set_x.__dict__[\"a\"] = 1"
   ]
  },
  {
   "cell_type": "code",
   "execution_count": 61,
   "id": "1f5bf3402a4f7b1f",
   "metadata": {
    "ExecuteTime": {
     "end_time": "2024-09-05T12:16:02.882435Z",
     "start_time": "2024-09-05T12:16:02.879850Z"
    }
   },
   "outputs": [
    {
     "data": {
      "text/plain": [
       "['__and__',\n",
       " '__class__',\n",
       " '__class_getitem__',\n",
       " '__contains__',\n",
       " '__delattr__',\n",
       " '__dir__',\n",
       " '__doc__',\n",
       " '__eq__',\n",
       " '__format__',\n",
       " '__ge__',\n",
       " '__getattribute__',\n",
       " '__getstate__',\n",
       " '__gt__',\n",
       " '__hash__',\n",
       " '__iand__',\n",
       " '__init__',\n",
       " '__init_subclass__',\n",
       " '__ior__',\n",
       " '__isub__',\n",
       " '__iter__',\n",
       " '__ixor__',\n",
       " '__le__',\n",
       " '__len__',\n",
       " '__lt__',\n",
       " '__ne__',\n",
       " '__new__',\n",
       " '__or__',\n",
       " '__rand__',\n",
       " '__reduce__',\n",
       " '__reduce_ex__',\n",
       " '__repr__',\n",
       " '__ror__',\n",
       " '__rsub__',\n",
       " '__rxor__',\n",
       " '__setattr__',\n",
       " '__sizeof__',\n",
       " '__str__',\n",
       " '__sub__',\n",
       " '__subclasshook__',\n",
       " '__xor__',\n",
       " 'add',\n",
       " 'clear',\n",
       " 'copy',\n",
       " 'difference',\n",
       " 'difference_update',\n",
       " 'discard',\n",
       " 'intersection',\n",
       " 'intersection_update',\n",
       " 'isdisjoint',\n",
       " 'issubset',\n",
       " 'issuperset',\n",
       " 'pop',\n",
       " 'remove',\n",
       " 'symmetric_difference',\n",
       " 'symmetric_difference_update',\n",
       " 'union',\n",
       " 'update']"
      ]
     },
     "execution_count": 61,
     "metadata": {},
     "output_type": "execute_result"
    }
   ],
   "source": [
    "dir(set_x)"
   ]
  },
  {
   "cell_type": "code",
   "execution_count": 62,
   "id": "6a910d0446328b97",
   "metadata": {
    "ExecuteTime": {
     "end_time": "2024-09-05T12:16:20.162750Z",
     "start_time": "2024-09-05T12:16:20.159158Z"
    }
   },
   "outputs": [
    {
     "data": {
      "text/plain": [
       "['__add__',\n",
       " '__class__',\n",
       " '__class_getitem__',\n",
       " '__contains__',\n",
       " '__delattr__',\n",
       " '__delitem__',\n",
       " '__dir__',\n",
       " '__doc__',\n",
       " '__eq__',\n",
       " '__format__',\n",
       " '__ge__',\n",
       " '__getattribute__',\n",
       " '__getitem__',\n",
       " '__getstate__',\n",
       " '__gt__',\n",
       " '__hash__',\n",
       " '__iadd__',\n",
       " '__imul__',\n",
       " '__init__',\n",
       " '__init_subclass__',\n",
       " '__iter__',\n",
       " '__le__',\n",
       " '__len__',\n",
       " '__lt__',\n",
       " '__mul__',\n",
       " '__ne__',\n",
       " '__new__',\n",
       " '__reduce__',\n",
       " '__reduce_ex__',\n",
       " '__repr__',\n",
       " '__reversed__',\n",
       " '__rmul__',\n",
       " '__setattr__',\n",
       " '__setitem__',\n",
       " '__sizeof__',\n",
       " '__str__',\n",
       " '__subclasshook__',\n",
       " 'append',\n",
       " 'clear',\n",
       " 'copy',\n",
       " 'count',\n",
       " 'extend',\n",
       " 'index',\n",
       " 'insert',\n",
       " 'pop',\n",
       " 'remove',\n",
       " 'reverse',\n",
       " 'sort']"
      ]
     },
     "execution_count": 62,
     "metadata": {},
     "output_type": "execute_result"
    }
   ],
   "source": [
    "dir(list)"
   ]
  },
  {
   "cell_type": "code",
   "execution_count": 63,
   "id": "33747073bbf7d5e4",
   "metadata": {
    "ExecuteTime": {
     "end_time": "2024-09-05T12:18:09.791883Z",
     "start_time": "2024-09-05T12:18:09.789161Z"
    }
   },
   "outputs": [],
   "source": [
    "functions = []\n",
    "for i in range(5):\n",
    "\n",
    "    def inner():\n",
    "        return i\n",
    "\n",
    "    functions.append(inner)"
   ]
  },
  {
   "cell_type": "code",
   "execution_count": 64,
   "id": "a56ff13aa7884902",
   "metadata": {
    "ExecuteTime": {
     "end_time": "2024-09-05T12:18:22.566159Z",
     "start_time": "2024-09-05T12:18:22.562815Z"
    }
   },
   "outputs": [
    {
     "name": "stdout",
     "output_type": "stream",
     "text": [
      "[<function inner at 0x10b746b60>, <function inner at 0x10b747a60>, <function inner at 0x10b747240>, <function inner at 0x10b747c40>, <function inner at 0x10b747d80>]\n"
     ]
    }
   ],
   "source": [
    "print(functions)"
   ]
  },
  {
   "cell_type": "code",
   "execution_count": 67,
   "id": "75c0c4b08e7c5e2e",
   "metadata": {
    "ExecuteTime": {
     "end_time": "2024-09-05T12:20:02.674714Z",
     "start_time": "2024-09-05T12:20:02.671676Z"
    }
   },
   "outputs": [
    {
     "data": {
      "text/plain": [
       "[4, 4, 4, 4, 4]"
      ]
     },
     "execution_count": 67,
     "metadata": {},
     "output_type": "execute_result"
    }
   ],
   "source": [
    "[f() for f in functions]"
   ]
  },
  {
   "cell_type": "code",
   "execution_count": 85,
   "id": "500fc8dc9106c99b",
   "metadata": {
    "ExecuteTime": {
     "end_time": "2024-09-05T12:33:08.728587Z",
     "start_time": "2024-09-05T12:33:08.725827Z"
    }
   },
   "outputs": [],
   "source": [
    "School = collections.namedtuple(\"B\", [\"A\", \"C\"])"
   ]
  },
  {
   "cell_type": "code",
   "execution_count": 86,
   "id": "36512743c18038ca",
   "metadata": {
    "ExecuteTime": {
     "end_time": "2024-09-05T12:33:09.602178Z",
     "start_time": "2024-09-05T12:33:09.598782Z"
    }
   },
   "outputs": [
    {
     "data": {
      "text/plain": [
       "__main__.B"
      ]
     },
     "execution_count": 86,
     "metadata": {},
     "output_type": "execute_result"
    }
   ],
   "source": [
    "School"
   ]
  },
  {
   "cell_type": "code",
   "execution_count": 87,
   "id": "19867312aa2b70cb",
   "metadata": {
    "ExecuteTime": {
     "end_time": "2024-09-05T12:33:10.654247Z",
     "start_time": "2024-09-05T12:33:10.650967Z"
    }
   },
   "outputs": [
    {
     "data": {
      "text/plain": [
       "__main__.B['B']"
      ]
     },
     "execution_count": 87,
     "metadata": {},
     "output_type": "execute_result"
    }
   ],
   "source": [
    "School[\"B\"]"
   ]
  },
  {
   "cell_type": "code",
   "execution_count": 88,
   "id": "f9ec42d99b7b6745",
   "metadata": {
    "ExecuteTime": {
     "end_time": "2024-09-05T12:33:41.550399Z",
     "start_time": "2024-09-05T12:33:41.548146Z"
    }
   },
   "outputs": [],
   "source": [
    "set1 = {1, 2, 3}"
   ]
  },
  {
   "cell_type": "code",
   "execution_count": 91,
   "id": "2dc33a6a7d62e96a",
   "metadata": {
    "ExecuteTime": {
     "end_time": "2024-09-05T12:34:20.139235Z",
     "start_time": "2024-09-05T12:34:20.137025Z"
    }
   },
   "outputs": [],
   "source": [
    "set1 |= {\"2\"}  # Can only concatenate set to a  set"
   ]
  },
  {
   "cell_type": "code",
   "execution_count": 94,
   "id": "dd1a8def2b631544",
   "metadata": {
    "ExecuteTime": {
     "end_time": "2024-09-05T12:34:57.321256Z",
     "start_time": "2024-09-05T12:34:57.314021Z"
    }
   },
   "outputs": [
    {
     "ename": "TypeError",
     "evalue": "unsupported operand type(s) for |=: 'set' and 'type'",
     "output_type": "error",
     "traceback": [
      "\u001b[0;31m---------------------------------------------------------------------------\u001b[0m",
      "\u001b[0;31mTypeError\u001b[0m                                 Traceback (most recent call last)",
      "Cell \u001b[0;32mIn[94], line 1\u001b[0m\n\u001b[0;32m----> 1\u001b[0m \u001b[43mset1\u001b[49m\u001b[38;5;241;43m|\u001b[39;49m\u001b[38;5;241;43m=\u001b[39;49m\u001b[43mSchool\u001b[49m\n",
      "\u001b[0;31mTypeError\u001b[0m: unsupported operand type(s) for |=: 'set' and 'type'"
     ]
    }
   ],
   "source": []
  },
  {
   "cell_type": "code",
   "execution_count": 95,
   "id": "e2ab58e5c06f0bb2",
   "metadata": {
    "ExecuteTime": {
     "end_time": "2024-09-05T12:37:48.421495Z",
     "start_time": "2024-09-05T12:37:36.692144Z"
    }
   },
   "outputs": [
    {
     "name": "stdout",
     "output_type": "stream",
     "text": [
      "pygame 2.6.0 (SDL 2.28.4, Python 3.12.5)\n",
      "Hello from the pygame community. https://www.pygame.org/contribute.html\n"
     ]
    }
   ],
   "source": [
    "import pygame"
   ]
  },
  {
   "cell_type": "code",
   "execution_count": 100,
   "id": "44dd6e9bfe11b1e1",
   "metadata": {
    "ExecuteTime": {
     "end_time": "2024-09-05T12:40:25.357557Z",
     "start_time": "2024-09-05T12:40:25.354532Z"
    }
   },
   "outputs": [],
   "source": [
    "obj = object()"
   ]
  },
  {
   "cell_type": "code",
   "execution_count": 97,
   "id": "a2cd7ac706086b4f",
   "metadata": {
    "ExecuteTime": {
     "end_time": "2024-09-05T12:39:47.167955Z",
     "start_time": "2024-09-05T12:39:47.164129Z"
    }
   },
   "outputs": [
    {
     "data": {
      "text/plain": [
       "2"
      ]
     },
     "execution_count": 97,
     "metadata": {},
     "output_type": "execute_result"
    }
   ],
   "source": [
    "sys.getrefcount(obj)"
   ]
  },
  {
   "cell_type": "code",
   "execution_count": 98,
   "id": "75f7113e0731daa8",
   "metadata": {
    "ExecuteTime": {
     "end_time": "2024-09-05T12:40:03.010543Z",
     "start_time": "2024-09-05T12:40:03.008350Z"
    }
   },
   "outputs": [],
   "source": [
    "del obj"
   ]
  },
  {
   "cell_type": "code",
   "execution_count": 99,
   "id": "e27486305e03e239",
   "metadata": {
    "ExecuteTime": {
     "end_time": "2024-09-05T12:40:10.802522Z",
     "start_time": "2024-09-05T12:40:10.791333Z"
    }
   },
   "outputs": [
    {
     "ename": "NameError",
     "evalue": "name 'obj' is not defined",
     "output_type": "error",
     "traceback": [
      "\u001b[0;31m---------------------------------------------------------------------------\u001b[0m",
      "\u001b[0;31mNameError\u001b[0m                                 Traceback (most recent call last)",
      "Cell \u001b[0;32mIn[99], line 1\u001b[0m\n\u001b[0;32m----> 1\u001b[0m sys\u001b[38;5;241m.\u001b[39mgetrefcount(\u001b[43mobj\u001b[49m)\n",
      "\u001b[0;31mNameError\u001b[0m: name 'obj' is not defined"
     ]
    }
   ],
   "source": [
    "sys.getrefcount(obj)"
   ]
  },
  {
   "cell_type": "code",
   "execution_count": 101,
   "id": "d11aa334dad824a6",
   "metadata": {
    "ExecuteTime": {
     "end_time": "2024-09-05T12:40:34.554917Z",
     "start_time": "2024-09-05T12:40:34.553105Z"
    }
   },
   "outputs": [],
   "source": [
    "y = obj"
   ]
  },
  {
   "cell_type": "code",
   "execution_count": 102,
   "id": "81434d7f3c0751d5",
   "metadata": {
    "ExecuteTime": {
     "end_time": "2024-09-05T12:40:39.536660Z",
     "start_time": "2024-09-05T12:40:39.534378Z"
    }
   },
   "outputs": [
    {
     "data": {
      "text/plain": [
       "3"
      ]
     },
     "execution_count": 102,
     "metadata": {},
     "output_type": "execute_result"
    }
   ],
   "source": [
    "sys.getrefcount(obj)"
   ]
  },
  {
   "cell_type": "code",
   "execution_count": 103,
   "id": "990f6291bea440c8",
   "metadata": {
    "ExecuteTime": {
     "end_time": "2024-09-05T12:40:46.116320Z",
     "start_time": "2024-09-05T12:40:46.113762Z"
    }
   },
   "outputs": [
    {
     "data": {
      "text/plain": [
       "True"
      ]
     },
     "execution_count": 103,
     "metadata": {},
     "output_type": "execute_result"
    }
   ],
   "source": [
    "y is obj"
   ]
  },
  {
   "cell_type": "code",
   "execution_count": 104,
   "id": "2219d650f28cb808",
   "metadata": {
    "ExecuteTime": {
     "end_time": "2024-09-05T12:40:59.879141Z",
     "start_time": "2024-09-05T12:40:59.877309Z"
    }
   },
   "outputs": [],
   "source": [
    "assert id(y) == id(obj)"
   ]
  },
  {
   "cell_type": "code",
   "execution_count": 105,
   "id": "cce01397b5758ec4",
   "metadata": {
    "ExecuteTime": {
     "end_time": "2024-09-05T12:41:47.581600Z",
     "start_time": "2024-09-05T12:41:47.579114Z"
    }
   },
   "outputs": [
    {
     "name": "stdout",
     "output_type": "stream",
     "text": [
      "4535197040 4535197040\n"
     ]
    }
   ],
   "source": [
    "name1 = \"Deven\"\n",
    "name2 = \"Deven\"\n",
    "print(id(name1), id(name2))"
   ]
  },
  {
   "cell_type": "code",
   "execution_count": 106,
   "id": "8a79c0c9f125e72a",
   "metadata": {
    "ExecuteTime": {
     "end_time": "2024-09-05T12:42:13.206634Z",
     "start_time": "2024-09-05T12:42:13.202885Z"
    }
   },
   "outputs": [
    {
     "data": {
      "text/plain": [
       "49"
      ]
     },
     "execution_count": 106,
     "metadata": {},
     "output_type": "execute_result"
    }
   ],
   "source": [
    "ord(\"1\")"
   ]
  },
  {
   "cell_type": "code",
   "execution_count": 109,
   "id": "4ecf08d717b3ff0d",
   "metadata": {
    "ExecuteTime": {
     "end_time": "2024-09-05T12:46:06.322086Z",
     "start_time": "2024-09-05T12:46:06.319599Z"
    }
   },
   "outputs": [
    {
     "data": {
      "text/plain": [
       "38"
      ]
     },
     "execution_count": 109,
     "metadata": {},
     "output_type": "execute_result"
    }
   ],
   "source": [
    "ord(\"&\")  # Ascii or Unicode?"
   ]
  },
  {
   "cell_type": "code",
   "execution_count": 110,
   "id": "b2cee6e7d2c5ecb8",
   "metadata": {
    "ExecuteTime": {
     "end_time": "2024-09-05T12:46:31.031629Z",
     "start_time": "2024-09-05T12:46:31.027795Z"
    }
   },
   "outputs": [
    {
     "data": {
      "text/plain": [
       "['__call__',\n",
       " '__class__',\n",
       " '__delattr__',\n",
       " '__dir__',\n",
       " '__doc__',\n",
       " '__eq__',\n",
       " '__format__',\n",
       " '__ge__',\n",
       " '__getattribute__',\n",
       " '__getstate__',\n",
       " '__gt__',\n",
       " '__hash__',\n",
       " '__init__',\n",
       " '__init_subclass__',\n",
       " '__le__',\n",
       " '__lt__',\n",
       " '__module__',\n",
       " '__name__',\n",
       " '__ne__',\n",
       " '__new__',\n",
       " '__qualname__',\n",
       " '__reduce__',\n",
       " '__reduce_ex__',\n",
       " '__repr__',\n",
       " '__self__',\n",
       " '__setattr__',\n",
       " '__sizeof__',\n",
       " '__str__',\n",
       " '__subclasshook__',\n",
       " '__text_signature__']"
      ]
     },
     "execution_count": 110,
     "metadata": {},
     "output_type": "execute_result"
    }
   ],
   "source": [
    "dir(ord)"
   ]
  },
  {
   "cell_type": "code",
   "execution_count": 116,
   "id": "c06a03ace56e1edd",
   "metadata": {
    "ExecuteTime": {
     "end_time": "2024-09-05T12:47:58.078461Z",
     "start_time": "2024-09-05T12:47:58.074849Z"
    }
   },
   "outputs": [
    {
     "data": {
      "text/plain": [
       "28"
      ]
     },
     "execution_count": 116,
     "metadata": {},
     "output_type": "execute_result"
    }
   ],
   "source": [
    "ord(\"a\").__sizeof__()"
   ]
  },
  {
   "cell_type": "code",
   "execution_count": 117,
   "id": "e1dfdd812deb4ae3",
   "metadata": {
    "ExecuteTime": {
     "end_time": "2024-09-05T12:48:07.888438Z",
     "start_time": "2024-09-05T12:48:07.885699Z"
    }
   },
   "outputs": [],
   "source": [
    "x = \"a\""
   ]
  },
  {
   "cell_type": "code",
   "execution_count": 118,
   "id": "b8197e2bf623d742",
   "metadata": {
    "ExecuteTime": {
     "end_time": "2024-09-05T12:48:13.673341Z",
     "start_time": "2024-09-05T12:48:13.670323Z"
    }
   },
   "outputs": [
    {
     "data": {
      "text/plain": [
       "42"
      ]
     },
     "execution_count": 118,
     "metadata": {},
     "output_type": "execute_result"
    }
   ],
   "source": [
    "x.__sizeof__()"
   ]
  },
  {
   "cell_type": "code",
   "execution_count": 122,
   "id": "b86d5ebf9075ea82",
   "metadata": {
    "ExecuteTime": {
     "end_time": "2024-09-05T12:50:24.576166Z",
     "start_time": "2024-09-05T12:50:24.573699Z"
    }
   },
   "outputs": [],
   "source": [
    "x = 2\n",
    "y = 1"
   ]
  },
  {
   "cell_type": "code",
   "execution_count": 123,
   "id": "4aa7978819e8791e",
   "metadata": {
    "ExecuteTime": {
     "end_time": "2024-09-05T12:50:25.118705Z",
     "start_time": "2024-09-05T12:50:25.116238Z"
    }
   },
   "outputs": [
    {
     "data": {
      "text/plain": [
       "32"
      ]
     },
     "execution_count": 123,
     "metadata": {},
     "output_type": "execute_result"
    }
   ],
   "source": [
    "id(x) - id(y)  # 32 bits"
   ]
  },
  {
   "cell_type": "code",
   "execution_count": 124,
   "id": "11be4a98ec75bf65",
   "metadata": {
    "ExecuteTime": {
     "end_time": "2024-09-05T12:51:05.846220Z",
     "start_time": "2024-09-05T12:51:05.843297Z"
    }
   },
   "outputs": [
    {
     "data": {
      "text/plain": [
       "1056"
      ]
     },
     "execution_count": 124,
     "metadata": {},
     "output_type": "execute_result"
    }
   ],
   "source": [
    "a = \"a\"\n",
    "b = \"b\"\n",
    "id(b) - id(a)"
   ]
  },
  {
   "cell_type": "code",
   "execution_count": 149,
   "id": "7dc5a20279987bd9",
   "metadata": {
    "ExecuteTime": {
     "end_time": "2024-09-05T13:07:03.968713Z",
     "start_time": "2024-09-05T13:07:03.965805Z"
    }
   },
   "outputs": [],
   "source": [
    "a = [1, 2, 3]\n",
    "x = [a] * 4"
   ]
  },
  {
   "cell_type": "code",
   "execution_count": 150,
   "id": "88a29a146578756b",
   "metadata": {
    "ExecuteTime": {
     "end_time": "2024-09-05T13:07:04.943490Z",
     "start_time": "2024-09-05T13:07:04.941304Z"
    }
   },
   "outputs": [
    {
     "data": {
      "text/plain": [
       "[[1, 2, 3]]"
      ]
     },
     "execution_count": 150,
     "metadata": {},
     "output_type": "execute_result"
    }
   ],
   "source": [
    "x[-1:]"
   ]
  },
  {
   "cell_type": "code",
   "execution_count": 151,
   "id": "a5a5be05b97b01b3",
   "metadata": {
    "ExecuteTime": {
     "end_time": "2024-09-05T13:07:05.952951Z",
     "start_time": "2024-09-05T13:07:05.950094Z"
    }
   },
   "outputs": [
    {
     "data": {
      "text/plain": [
       "[[1, 2, 3], [1, 2, 3], [1, 2, 3]]"
      ]
     },
     "execution_count": 151,
     "metadata": {},
     "output_type": "execute_result"
    }
   ],
   "source": [
    "x[:-1]"
   ]
  },
  {
   "cell_type": "code",
   "execution_count": 152,
   "id": "9677820263aacb2",
   "metadata": {
    "ExecuteTime": {
     "end_time": "2024-09-05T13:07:08.399148Z",
     "start_time": "2024-09-05T13:07:08.396632Z"
    }
   },
   "outputs": [],
   "source": [
    "x[0].sort(reverse=True)  # a is sorted now"
   ]
  },
  {
   "cell_type": "code",
   "execution_count": 153,
   "id": "a92955e89be9f826",
   "metadata": {
    "ExecuteTime": {
     "end_time": "2024-09-05T13:07:09.553096Z",
     "start_time": "2024-09-05T13:07:09.549736Z"
    }
   },
   "outputs": [
    {
     "data": {
      "text/plain": [
       "[[3, 2, 1], [3, 2, 1], [3, 2, 1]]"
      ]
     },
     "execution_count": 153,
     "metadata": {},
     "output_type": "execute_result"
    }
   ],
   "source": [
    "x[:-1]"
   ]
  },
  {
   "cell_type": "code",
   "execution_count": 154,
   "id": "eef719182f19e3ab",
   "metadata": {
    "ExecuteTime": {
     "end_time": "2024-09-05T13:07:12.668154Z",
     "start_time": "2024-09-05T13:07:12.664939Z"
    }
   },
   "outputs": [
    {
     "data": {
      "text/plain": [
       "[3, 2, 1]"
      ]
     },
     "execution_count": 154,
     "metadata": {},
     "output_type": "execute_result"
    }
   ],
   "source": [
    "a"
   ]
  },
  {
   "cell_type": "code",
   "execution_count": 155,
   "id": "8e334c62ef2d4589",
   "metadata": {
    "ExecuteTime": {
     "end_time": "2024-09-05T13:07:14.538794Z",
     "start_time": "2024-09-05T13:07:14.536302Z"
    }
   },
   "outputs": [],
   "source": [
    "a.reverse()"
   ]
  },
  {
   "cell_type": "code",
   "execution_count": 156,
   "id": "765b6f54bd00d3b6",
   "metadata": {
    "ExecuteTime": {
     "end_time": "2024-09-05T13:07:16.724752Z",
     "start_time": "2024-09-05T13:07:16.721246Z"
    }
   },
   "outputs": [
    {
     "data": {
      "text/plain": [
       "[1, 2, 3]"
      ]
     },
     "execution_count": 156,
     "metadata": {},
     "output_type": "execute_result"
    }
   ],
   "source": [
    "a"
   ]
  },
  {
   "cell_type": "code",
   "execution_count": 158,
   "id": "ce31b06832b80660",
   "metadata": {
    "ExecuteTime": {
     "end_time": "2024-09-05T13:07:32.678857Z",
     "start_time": "2024-09-05T13:07:32.676248Z"
    }
   },
   "outputs": [],
   "source": [
    "x[0] = [1, 2]"
   ]
  },
  {
   "cell_type": "code",
   "execution_count": 138,
   "id": "ac87193f49064c0",
   "metadata": {
    "ExecuteTime": {
     "end_time": "2024-09-05T12:59:31.428097Z",
     "start_time": "2024-09-05T12:59:31.425378Z"
    }
   },
   "outputs": [],
   "source": [
    "a = [2, 1, 3]"
   ]
  },
  {
   "cell_type": "code",
   "execution_count": 139,
   "id": "b7bdbbaf3f7bca3b",
   "metadata": {
    "ExecuteTime": {
     "end_time": "2024-09-05T12:59:58.372784Z",
     "start_time": "2024-09-05T12:59:58.370398Z"
    }
   },
   "outputs": [
    {
     "data": {
      "text/plain": [
       "8"
      ]
     },
     "execution_count": 139,
     "metadata": {},
     "output_type": "execute_result"
    }
   ],
   "source": [
    "sys.getrefcount(x)"
   ]
  },
  {
   "cell_type": "code",
   "execution_count": 160,
   "id": "7aaf0447f73defff",
   "metadata": {
    "ExecuteTime": {
     "end_time": "2024-09-05T13:07:50.682088Z",
     "start_time": "2024-09-05T13:07:50.679955Z"
    }
   },
   "outputs": [],
   "source": [
    "x[0].reverse()"
   ]
  },
  {
   "cell_type": "code",
   "execution_count": 161,
   "id": "833879cdcd09014f",
   "metadata": {
    "ExecuteTime": {
     "end_time": "2024-09-05T13:07:51.983842Z",
     "start_time": "2024-09-05T13:07:51.980861Z"
    }
   },
   "outputs": [
    {
     "data": {
      "text/plain": [
       "[[2, 1], [1, 2, 3], [1, 2, 3], [1, 2, 3]]"
      ]
     },
     "execution_count": 161,
     "metadata": {},
     "output_type": "execute_result"
    }
   ],
   "source": [
    "x"
   ]
  },
  {
   "cell_type": "code",
   "execution_count": 162,
   "id": "c0898145bc7e7ab0",
   "metadata": {
    "ExecuteTime": {
     "end_time": "2024-09-05T13:07:59.447784Z",
     "start_time": "2024-09-05T13:07:59.445201Z"
    }
   },
   "outputs": [],
   "source": [
    "x[1].reverse()"
   ]
  },
  {
   "cell_type": "code",
   "execution_count": 163,
   "id": "ea8b0bf1a111630e",
   "metadata": {
    "ExecuteTime": {
     "end_time": "2024-09-05T13:08:03.950581Z",
     "start_time": "2024-09-05T13:08:03.946951Z"
    }
   },
   "outputs": [
    {
     "data": {
      "text/plain": [
       "[[2, 1], [3, 2, 1], [3, 2, 1], [3, 2, 1]]"
      ]
     },
     "execution_count": 163,
     "metadata": {},
     "output_type": "execute_result"
    }
   ],
   "source": [
    "x"
   ]
  },
  {
   "cell_type": "code",
   "execution_count": 145,
   "id": "28de91b03b14a8c8",
   "metadata": {
    "ExecuteTime": {
     "end_time": "2024-09-05T13:01:01.689660Z",
     "start_time": "2024-09-05T13:01:01.686412Z"
    }
   },
   "outputs": [
    {
     "data": {
      "text/plain": [
       "[[10, 12, 9, 13], [3, 2, 1], [3, 2, 1], [3, 2, 1]]"
      ]
     },
     "execution_count": 145,
     "metadata": {},
     "output_type": "execute_result"
    }
   ],
   "source": [
    "x"
   ]
  },
  {
   "cell_type": "code",
   "execution_count": 146,
   "id": "45b31aec0ca9d290",
   "metadata": {
    "ExecuteTime": {
     "end_time": "2024-09-05T13:06:20.288413Z",
     "start_time": "2024-09-05T13:06:20.285411Z"
    }
   },
   "outputs": [],
   "source": [
    "x = [1, 2, 3]"
   ]
  },
  {
   "cell_type": "code",
   "execution_count": 147,
   "id": "eee75fea8d7b179b",
   "metadata": {
    "ExecuteTime": {
     "end_time": "2024-09-05T13:06:24.579840Z",
     "start_time": "2024-09-05T13:06:24.577048Z"
    }
   },
   "outputs": [],
   "source": [
    "x[0] = 4"
   ]
  },
  {
   "cell_type": "code",
   "execution_count": 148,
   "id": "8befe30a466d05ac",
   "metadata": {
    "ExecuteTime": {
     "end_time": "2024-09-05T13:06:26.304429Z",
     "start_time": "2024-09-05T13:06:26.301638Z"
    }
   },
   "outputs": [
    {
     "data": {
      "text/plain": [
       "[4, 2, 3]"
      ]
     },
     "execution_count": 148,
     "metadata": {},
     "output_type": "execute_result"
    }
   ],
   "source": [
    "x"
   ]
  },
  {
   "cell_type": "code",
   "execution_count": 164,
   "id": "521415ba47c64f38",
   "metadata": {
    "ExecuteTime": {
     "end_time": "2024-09-05T13:08:39.851560Z",
     "start_time": "2024-09-05T13:08:39.849217Z"
    }
   },
   "outputs": [
    {
     "name": "stdout",
     "output_type": "stream",
     "text": [
      "None\n"
     ]
    }
   ],
   "source": [
    "a = [10, 5, 15]\n",
    "print(a.reverse())"
   ]
  },
  {
   "cell_type": "code",
   "execution_count": 165,
   "id": "bc6266d06b4d7e78",
   "metadata": {
    "ExecuteTime": {
     "end_time": "2024-09-05T13:08:43.261786Z",
     "start_time": "2024-09-05T13:08:43.259945Z"
    }
   },
   "outputs": [],
   "source": [
    "a.reverse()"
   ]
  },
  {
   "cell_type": "code",
   "execution_count": 166,
   "id": "5b148ae9d730c219",
   "metadata": {
    "ExecuteTime": {
     "end_time": "2024-09-05T13:08:46.146784Z",
     "start_time": "2024-09-05T13:08:46.144154Z"
    }
   },
   "outputs": [
    {
     "data": {
      "text/plain": [
       "[10, 5, 15]"
      ]
     },
     "execution_count": 166,
     "metadata": {},
     "output_type": "execute_result"
    }
   ],
   "source": [
    "a"
   ]
  },
  {
   "cell_type": "code",
   "execution_count": 167,
   "id": "c7511cab93bab19a",
   "metadata": {
    "ExecuteTime": {
     "end_time": "2024-09-05T13:09:03.130599Z",
     "start_time": "2024-09-05T13:09:03.128594Z"
    }
   },
   "outputs": [],
   "source": [
    "a = a.reverse()"
   ]
  },
  {
   "cell_type": "code",
   "execution_count": 168,
   "id": "e67ca18dd3d00e26",
   "metadata": {
    "ExecuteTime": {
     "end_time": "2024-09-05T13:09:04.715868Z",
     "start_time": "2024-09-05T13:09:04.713848Z"
    }
   },
   "outputs": [],
   "source": [
    "a"
   ]
  },
  {
   "cell_type": "code",
   "execution_count": 169,
   "id": "9b4978f3ec991db7",
   "metadata": {
    "ExecuteTime": {
     "end_time": "2024-09-05T13:09:23.173434Z",
     "start_time": "2024-09-05T13:09:23.170874Z"
    }
   },
   "outputs": [],
   "source": [
    "a = [5, 3, 6]"
   ]
  },
  {
   "cell_type": "code",
   "execution_count": 170,
   "id": "37257ee5745f9518",
   "metadata": {
    "ExecuteTime": {
     "end_time": "2024-09-05T13:09:42.256987Z",
     "start_time": "2024-09-05T13:09:42.254576Z"
    }
   },
   "outputs": [
    {
     "data": {
      "text/plain": [
       "<list_reverseiterator at 0x10a468100>"
      ]
     },
     "execution_count": 170,
     "metadata": {},
     "output_type": "execute_result"
    }
   ],
   "source": [
    "reversed(a)"
   ]
  },
  {
   "cell_type": "code",
   "execution_count": 171,
   "id": "8894c44f6b90bc1a",
   "metadata": {
    "ExecuteTime": {
     "end_time": "2024-09-05T13:10:35.145254Z",
     "start_time": "2024-09-05T13:10:35.143113Z"
    }
   },
   "outputs": [
    {
     "data": {
      "text/plain": [
       "[6, 3, 5]"
      ]
     },
     "execution_count": 171,
     "metadata": {},
     "output_type": "execute_result"
    }
   ],
   "source": [
    "a.reverse()\n",
    "a"
   ]
  },
  {
   "cell_type": "code",
   "execution_count": 172,
   "id": "bc718f6d3d79a6a3",
   "metadata": {
    "ExecuteTime": {
     "end_time": "2024-09-05T13:11:08.857656Z",
     "start_time": "2024-09-05T13:11:08.855266Z"
    }
   },
   "outputs": [],
   "source": [
    "a.sort(reverse=True)"
   ]
  },
  {
   "cell_type": "code",
   "execution_count": 173,
   "id": "51cdc04a91caf7e9",
   "metadata": {
    "ExecuteTime": {
     "end_time": "2024-09-05T13:11:10.618839Z",
     "start_time": "2024-09-05T13:11:10.616440Z"
    }
   },
   "outputs": [
    {
     "data": {
      "text/plain": [
       "[6, 5, 3]"
      ]
     },
     "execution_count": 173,
     "metadata": {},
     "output_type": "execute_result"
    }
   ],
   "source": [
    "a"
   ]
  },
  {
   "cell_type": "markdown",
   "id": "db8daee608befc80",
   "metadata": {},
   "source": []
  },
  {
   "cell_type": "code",
   "execution_count": 174,
   "id": "779bfc20f0ecb62c",
   "metadata": {
    "ExecuteTime": {
     "end_time": "2024-09-05T13:15:18.779169Z",
     "start_time": "2024-09-05T13:15:18.776827Z"
    }
   },
   "outputs": [
    {
     "data": {
      "text/plain": [
       "[6, 9, 5, 3]"
      ]
     },
     "execution_count": 174,
     "metadata": {},
     "output_type": "execute_result"
    }
   ],
   "source": [
    "a.insert(1, 9)\n",
    "a"
   ]
  },
  {
   "cell_type": "markdown",
   "id": "37a5d73f911f7c33",
   "metadata": {},
   "source": []
  },
  {
   "cell_type": "code",
   "execution_count": 177,
   "id": "8fb2d104161e2120",
   "metadata": {
    "ExecuteTime": {
     "end_time": "2024-09-05T13:17:21.270738Z",
     "start_time": "2024-09-05T13:17:21.268145Z"
    }
   },
   "outputs": [
    {
     "data": {
      "text/plain": [
       "[1, 2, 3]"
      ]
     },
     "execution_count": 177,
     "metadata": {},
     "output_type": "execute_result"
    }
   ],
   "source": [
    "a = [1, 2]\n",
    "b = [3]\n",
    "a + b"
   ]
  },
  {
   "cell_type": "code",
   "execution_count": 178,
   "id": "a1985c1fa06c1aaf",
   "metadata": {
    "ExecuteTime": {
     "end_time": "2024-09-05T13:17:36.968368Z",
     "start_time": "2024-09-05T13:17:36.965819Z"
    }
   },
   "outputs": [
    {
     "data": {
      "text/plain": [
       "[1, 2]"
      ]
     },
     "execution_count": 178,
     "metadata": {},
     "output_type": "execute_result"
    }
   ],
   "source": [
    "a"
   ]
  },
  {
   "cell_type": "code",
   "execution_count": 179,
   "id": "9eae39d32030a0b5",
   "metadata": {
    "ExecuteTime": {
     "end_time": "2024-09-05T13:17:44.099587Z",
     "start_time": "2024-09-05T13:17:44.096565Z"
    }
   },
   "outputs": [],
   "source": [
    "a.extend(b)"
   ]
  },
  {
   "cell_type": "code",
   "execution_count": 180,
   "id": "57c982521fa700a0",
   "metadata": {
    "ExecuteTime": {
     "end_time": "2024-09-05T13:17:49.380047Z",
     "start_time": "2024-09-05T13:17:49.377998Z"
    }
   },
   "outputs": [],
   "source": [
    "a += b"
   ]
  },
  {
   "cell_type": "code",
   "execution_count": 181,
   "id": "587bc6df5750ad28",
   "metadata": {
    "ExecuteTime": {
     "end_time": "2024-09-05T13:17:51.208978Z",
     "start_time": "2024-09-05T13:17:51.206698Z"
    }
   },
   "outputs": [
    {
     "data": {
      "text/plain": [
       "[1, 2, 3, 3]"
      ]
     },
     "execution_count": 181,
     "metadata": {},
     "output_type": "execute_result"
    }
   ],
   "source": [
    "a"
   ]
  },
  {
   "cell_type": "code",
   "execution_count": 182,
   "id": "c28495cf758e972b",
   "metadata": {
    "ExecuteTime": {
     "end_time": "2024-09-05T13:17:58.858299Z",
     "start_time": "2024-09-05T13:17:58.855600Z"
    }
   },
   "outputs": [],
   "source": [
    "a.remove(3)"
   ]
  },
  {
   "cell_type": "code",
   "execution_count": 183,
   "id": "a1bc2ec0ea1f43f8",
   "metadata": {
    "ExecuteTime": {
     "end_time": "2024-09-05T13:18:00.469626Z",
     "start_time": "2024-09-05T13:18:00.467111Z"
    }
   },
   "outputs": [
    {
     "data": {
      "text/plain": [
       "[1, 2, 3]"
      ]
     },
     "execution_count": 183,
     "metadata": {},
     "output_type": "execute_result"
    }
   ],
   "source": [
    "a"
   ]
  },
  {
   "cell_type": "code",
   "execution_count": 184,
   "id": "f1d970d4ab30c9e0",
   "metadata": {
    "ExecuteTime": {
     "end_time": "2024-09-05T13:25:57.483172Z",
     "start_time": "2024-09-05T13:25:57.480640Z"
    }
   },
   "outputs": [],
   "source": [
    "def disk_usage(folder, ends_with_suffix=None):\n",
    "    total = 0\n",
    "    if os.access(folder, 777):\n",
    "        return total\n",
    "    # total+=os.s\n",
    "    pass"
   ]
  },
  {
   "cell_type": "code",
   "execution_count": 194,
   "id": "4a5d90815df90b33",
   "metadata": {
    "ExecuteTime": {
     "end_time": "2024-09-05T13:34:46.763096Z",
     "start_time": "2024-09-05T13:34:44.632776Z"
    }
   },
   "outputs": [],
   "source": [
    "f = []\n",
    "for dir_name, file_name, *extra in os.walk(folder):\n",
    "    f.append([dir_name, file_name, *extra])"
   ]
  },
  {
   "cell_type": "code",
   "execution_count": 195,
   "id": "7925157e3f306064",
   "metadata": {
    "ExecuteTime": {
     "end_time": "2024-09-05T13:34:50.438316Z",
     "start_time": "2024-09-05T13:34:50.435516Z"
    }
   },
   "outputs": [
    {
     "data": {
      "text/plain": [
       "['/Users/deven/Developer',\n",
       " ['Python_Projects',\n",
       "  'Dummy',\n",
       "  'Java_Projects',\n",
       "  'flux',\n",
       "  'Others',\n",
       "  'Coding_Ninjas',\n",
       "  'ML',\n",
       "  'python_revision',\n",
       "  'Themes',\n",
       "  'Reference',\n",
       "  'Node_Projects'],\n",
       " ['.DS_Store', 'hello1.txt']]"
      ]
     },
     "execution_count": 195,
     "metadata": {},
     "output_type": "execute_result"
    }
   ],
   "source": [
    "f[0]"
   ]
  },
  {
   "cell_type": "code",
   "execution_count": 196,
   "id": "8e4d23eea57fbfdb",
   "metadata": {
    "ExecuteTime": {
     "end_time": "2024-09-05T13:36:03.078780Z",
     "start_time": "2024-09-05T13:36:03.071436Z"
    }
   },
   "outputs": [
    {
     "ename": "TypeError",
     "evalue": "posix_spawn() takes exactly 3 positional arguments (1 given)",
     "output_type": "error",
     "traceback": [
      "\u001b[0;31m---------------------------------------------------------------------------\u001b[0m",
      "\u001b[0;31mTypeError\u001b[0m                                 Traceback (most recent call last)",
      "Cell \u001b[0;32mIn[196], line 3\u001b[0m\n\u001b[1;32m      1\u001b[0m total\u001b[38;5;241m=\u001b[39m\u001b[38;5;241m0\u001b[39m\n\u001b[1;32m      2\u001b[0m \u001b[38;5;28;01mfor\u001b[39;00m files \u001b[38;5;129;01min\u001b[39;00m f:\n\u001b[0;32m----> 3\u001b[0m     \u001b[38;5;28mprint\u001b[39m(\u001b[43mos\u001b[49m\u001b[38;5;241;43m.\u001b[39;49m\u001b[43mposix_spawn\u001b[49m\u001b[43m(\u001b[49m\u001b[43mfiles\u001b[49m\u001b[43m)\u001b[49m)\n",
      "\u001b[0;31mTypeError\u001b[0m: posix_spawn() takes exactly 3 positional arguments (1 given)"
     ]
    }
   ],
   "source": [
    "total = 0\n",
    "for files in f:\n",
    "    print(os.posix_spawn(files))"
   ]
  },
  {
   "cell_type": "code",
   "execution_count": 193,
   "id": "77d84685fabeb0b",
   "metadata": {
    "ExecuteTime": {
     "end_time": "2024-09-05T13:34:22.074259Z",
     "start_time": "2024-09-05T13:34:22.070683Z"
    }
   },
   "outputs": [
    {
     "data": {
      "text/plain": [
       "['/Users/deven/Developer/Python_Projects',\n",
       " ['_1',\n",
       "  'introtodeeplearning',\n",
       "  'Freelancing',\n",
       "  'Django_Docker',\n",
       "  'recipe_app',\n",
       "  'web',\n",
       "  'Datasets',\n",
       "  'Machine_Learning_Algorithms',\n",
       "  'automation_techniques',\n",
       "  'Mastering-Object-Oriented-Python-Second-Edition',\n",
       "  'revision',\n",
       "  'Reference']]"
      ]
     },
     "execution_count": 193,
     "metadata": {},
     "output_type": "execute_result"
    }
   ],
   "source": [
    "f[1]"
   ]
  },
  {
   "cell_type": "code",
   "execution_count": 198,
   "id": "dfc96c87dcc39212",
   "metadata": {
    "ExecuteTime": {
     "end_time": "2024-09-05T13:40:46.307646Z",
     "start_time": "2024-09-05T13:40:46.301055Z"
    }
   },
   "outputs": [
    {
     "ename": "AttributeError",
     "evalue": "module 'os' has no attribute 'listvolumes'",
     "output_type": "error",
     "traceback": [
      "\u001b[0;31m---------------------------------------------------------------------------\u001b[0m",
      "\u001b[0;31mAttributeError\u001b[0m                            Traceback (most recent call last)",
      "Cell \u001b[0;32mIn[198], line 1\u001b[0m\n\u001b[0;32m----> 1\u001b[0m \u001b[43mos\u001b[49m\u001b[38;5;241;43m.\u001b[39;49m\u001b[43mlistvolumes\u001b[49m()\n",
      "\u001b[0;31mAttributeError\u001b[0m: module 'os' has no attribute 'listvolumes'"
     ]
    }
   ],
   "source": [
    "os.listvolumes()"
   ]
  },
  {
   "cell_type": "code",
   "execution_count": 200,
   "id": "3f6f7d398e1dfecb",
   "metadata": {
    "ExecuteTime": {
     "end_time": "2024-09-05T13:42:20.095538Z",
     "start_time": "2024-09-05T13:42:20.089184Z"
    }
   },
   "outputs": [
    {
     "ename": "FileExistsError",
     "evalue": "[Errno 17] File exists: 'src'",
     "output_type": "error",
     "traceback": [
      "\u001b[0;31m---------------------------------------------------------------------------\u001b[0m",
      "\u001b[0;31mFileExistsError\u001b[0m                           Traceback (most recent call last)",
      "Cell \u001b[0;32mIn[200], line 1\u001b[0m\n\u001b[0;32m----> 1\u001b[0m \u001b[43mos\u001b[49m\u001b[38;5;241;43m.\u001b[39;49m\u001b[43mmkdir\u001b[49m\u001b[43m(\u001b[49m\u001b[38;5;124;43m\"\u001b[39;49m\u001b[38;5;124;43msrc\u001b[39;49m\u001b[38;5;124;43m\"\u001b[39;49m\u001b[43m,\u001b[49m\u001b[38;5;241;43m700\u001b[39;49m\u001b[43m)\u001b[49m\n",
      "\u001b[0;31mFileExistsError\u001b[0m: [Errno 17] File exists: 'src'"
     ]
    }
   ],
   "source": [
    "os.mkdir(\"src\", 700)"
   ]
  },
  {
   "cell_type": "code",
   "execution_count": 202,
   "id": "4cdf12a72dc74fb0",
   "metadata": {
    "ExecuteTime": {
     "end_time": "2024-09-05T13:44:20.575501Z",
     "start_time": "2024-09-05T13:44:20.573067Z"
    }
   },
   "outputs": [],
   "source": [
    "if os.path.exists(\"src\"):\n",
    "    os.rmdir(\"src\")"
   ]
  },
  {
   "cell_type": "code",
   "execution_count": 203,
   "id": "8cff392e1b857806",
   "metadata": {
    "ExecuteTime": {
     "end_time": "2024-09-05T13:44:36.856029Z",
     "start_time": "2024-09-05T13:44:36.854281Z"
    }
   },
   "outputs": [],
   "source": [
    "import shutil"
   ]
  },
  {
   "cell_type": "code",
   "execution_count": 204,
   "id": "1517333611b264c8",
   "metadata": {
    "ExecuteTime": {
     "end_time": "2024-09-05T13:45:15.673288Z",
     "start_time": "2024-09-05T13:45:15.670852Z"
    }
   },
   "outputs": [],
   "source": [
    "import subprocess\n",
    "from shutil import disk_usage"
   ]
  },
  {
   "cell_type": "code",
   "execution_count": 206,
   "id": "f9809bb3c4ab46ad",
   "metadata": {
    "ExecuteTime": {
     "end_time": "2024-09-05T13:45:39.956190Z",
     "start_time": "2024-09-05T13:45:39.953231Z"
    }
   },
   "outputs": [
    {
     "data": {
      "text/plain": [
       "usage(total=494384795648, used=237376577536, free=257008218112)"
      ]
     },
     "execution_count": 206,
     "metadata": {},
     "output_type": "execute_result"
    }
   ],
   "source": [
    "disk_usage(\"/Users/deven/Developer\")"
   ]
  },
  {
   "cell_type": "code",
   "execution_count": 208,
   "id": "81310189f730329b",
   "metadata": {
    "ExecuteTime": {
     "end_time": "2024-09-05T13:46:08.226885Z",
     "start_time": "2024-09-05T13:46:08.224327Z"
    }
   },
   "outputs": [
    {
     "data": {
      "text/plain": [
       "usage(total=494384795648, used=237376577536, free=257008218112)"
      ]
     },
     "execution_count": 208,
     "metadata": {},
     "output_type": "execute_result"
    }
   ],
   "source": [
    "disk_usage(\"/\")"
   ]
  },
  {
   "cell_type": "code",
   "execution_count": 218,
   "id": "7dd568cf3905083a",
   "metadata": {
    "ExecuteTime": {
     "end_time": "2024-09-05T13:53:01.384838Z",
     "start_time": "2024-09-05T13:53:01.369239Z"
    }
   },
   "outputs": [
    {
     "ename": "TypeError",
     "evalue": "unsupported operand type(s) for +: 'PosixPath' and 'str'",
     "output_type": "error",
     "traceback": [
      "\u001b[0;31m---------------------------------------------------------------------------\u001b[0m",
      "\u001b[0;31mTypeError\u001b[0m                                 Traceback (most recent call last)",
      "Cell \u001b[0;32mIn[218], line 1\u001b[0m\n\u001b[0;32m----> 1\u001b[0m \u001b[43mshutil\u001b[49m\u001b[38;5;241;43m.\u001b[39;49m\u001b[43mmake_archive\u001b[49m\u001b[43m(\u001b[49m\u001b[43mBASE_DIR\u001b[49m\u001b[43m,\u001b[49m\u001b[38;5;28;43mformat\u001b[39;49m\u001b[38;5;241;43m=\u001b[39;49m\u001b[38;5;124;43m'\u001b[39;49m\u001b[38;5;124;43mzip\u001b[39;49m\u001b[38;5;124;43m'\u001b[39;49m\u001b[43m)\u001b[49m\n",
      "File \u001b[0;32m/Library/Frameworks/Python.framework/Versions/3.12/lib/python3.12/shutil.py:1161\u001b[0m, in \u001b[0;36mmake_archive\u001b[0;34m(base_name, format, root_dir, base_dir, verbose, dry_run, owner, group, logger)\u001b[0m\n\u001b[1;32m   1158\u001b[0m             os\u001b[38;5;241m.\u001b[39mchdir(root_dir)\n\u001b[1;32m   1160\u001b[0m \u001b[38;5;28;01mtry\u001b[39;00m:\n\u001b[0;32m-> 1161\u001b[0m     filename \u001b[38;5;241m=\u001b[39m \u001b[43mfunc\u001b[49m\u001b[43m(\u001b[49m\u001b[43mbase_name\u001b[49m\u001b[43m,\u001b[49m\u001b[43m \u001b[49m\u001b[43mbase_dir\u001b[49m\u001b[43m,\u001b[49m\u001b[43m \u001b[49m\u001b[38;5;241;43m*\u001b[39;49m\u001b[38;5;241;43m*\u001b[39;49m\u001b[43mkwargs\u001b[49m\u001b[43m)\u001b[49m\n\u001b[1;32m   1162\u001b[0m \u001b[38;5;28;01mfinally\u001b[39;00m:\n\u001b[1;32m   1163\u001b[0m     \u001b[38;5;28;01mif\u001b[39;00m save_cwd \u001b[38;5;129;01mis\u001b[39;00m \u001b[38;5;129;01mnot\u001b[39;00m \u001b[38;5;28;01mNone\u001b[39;00m:\n",
      "File \u001b[0;32m/Library/Frameworks/Python.framework/Versions/3.12/lib/python3.12/shutil.py:1000\u001b[0m, in \u001b[0;36m_make_zipfile\u001b[0;34m(base_name, base_dir, verbose, dry_run, logger, owner, group, root_dir)\u001b[0m\n\u001b[1;32m    993\u001b[0m \u001b[38;5;250m\u001b[39m\u001b[38;5;124;03m\"\"\"Create a zip file from all the files under 'base_dir'.\u001b[39;00m\n\u001b[1;32m    994\u001b[0m \n\u001b[1;32m    995\u001b[0m \u001b[38;5;124;03mThe output zip file will be named 'base_name' + \".zip\".  Returns the\u001b[39;00m\n\u001b[1;32m    996\u001b[0m \u001b[38;5;124;03mname of the output zip file.\u001b[39;00m\n\u001b[1;32m    997\u001b[0m \u001b[38;5;124;03m\"\"\"\u001b[39;00m\n\u001b[1;32m    998\u001b[0m \u001b[38;5;28;01mimport\u001b[39;00m \u001b[38;5;21;01mzipfile\u001b[39;00m  \u001b[38;5;66;03m# late import for breaking circular dependency\u001b[39;00m\n\u001b[0;32m-> 1000\u001b[0m zip_filename \u001b[38;5;241m=\u001b[39m \u001b[43mbase_name\u001b[49m\u001b[43m \u001b[49m\u001b[38;5;241;43m+\u001b[39;49m\u001b[43m \u001b[49m\u001b[38;5;124;43m\"\u001b[39;49m\u001b[38;5;124;43m.zip\u001b[39;49m\u001b[38;5;124;43m\"\u001b[39;49m\n\u001b[1;32m   1001\u001b[0m archive_dir \u001b[38;5;241m=\u001b[39m os\u001b[38;5;241m.\u001b[39mpath\u001b[38;5;241m.\u001b[39mdirname(base_name)\n\u001b[1;32m   1003\u001b[0m \u001b[38;5;28;01mif\u001b[39;00m archive_dir \u001b[38;5;129;01mand\u001b[39;00m \u001b[38;5;129;01mnot\u001b[39;00m os\u001b[38;5;241m.\u001b[39mpath\u001b[38;5;241m.\u001b[39mexists(archive_dir):\n",
      "\u001b[0;31mTypeError\u001b[0m: unsupported operand type(s) for +: 'PosixPath' and 'str'"
     ]
    }
   ],
   "source": []
  },
  {
   "cell_type": "code",
   "execution_count": 214,
   "id": "8c4c5de46c702dfa",
   "metadata": {
    "ExecuteTime": {
     "end_time": "2024-09-05T13:52:29.171332Z",
     "start_time": "2024-09-05T13:52:29.168347Z"
    }
   },
   "outputs": [],
   "source": [
    "from pathlib import Path\n",
    "\n",
    "BASE_DIR = Path.cwd().parent.parent.resolve()"
   ]
  },
  {
   "cell_type": "code",
   "execution_count": 215,
   "id": "dfe9d5508f46dabc",
   "metadata": {
    "ExecuteTime": {
     "end_time": "2024-09-05T13:52:31.808801Z",
     "start_time": "2024-09-05T13:52:31.806152Z"
    }
   },
   "outputs": [
    {
     "data": {
      "text/plain": [
       "PosixPath('/Users/deven/Developer')"
      ]
     },
     "execution_count": 215,
     "metadata": {},
     "output_type": "execute_result"
    }
   ],
   "source": [
    "BASE_DIR"
   ]
  },
  {
   "cell_type": "code",
   "execution_count": 228,
   "id": "267ec54e02d3263",
   "metadata": {
    "ExecuteTime": {
     "end_time": "2024-09-05T14:15:03.056865Z",
     "start_time": "2024-09-05T14:15:03.054537Z"
    }
   },
   "outputs": [],
   "source": [
    "import os\n",
    "root_dir = os.path.expanduser(os.path.join(\"~/Developer\")),\"Python_Projects\")"
   ]
  },
  {
   "cell_type": "code",
   "execution_count": 227,
   "id": "9a682029ae252f3f",
   "metadata": {
    "ExecuteTime": {
     "end_time": "2024-09-05T14:15:03.041075Z",
     "start_time": "2024-09-05T14:04:43.895030Z"
    }
   },
   "outputs": [
    {
     "data": {
      "text/plain": [
       "'/Users/deven/Developer/python_revision/audio_processing/myarchive.tar.gz'"
      ]
     },
     "execution_count": 227,
     "metadata": {},
     "output_type": "execute_result"
    }
   ],
   "source": [
    "archive_name = os.path.expanduser(os.path.join(\".\", \"myarchive\"))\n",
    "shutil.make_archive(archive_name, \"gztar\", root_dir)"
   ]
  },
  {
   "cell_type": "code",
   "execution_count": null,
   "id": "7717df46753f666b",
   "metadata": {},
   "outputs": [],
   "source": []
  }
 ],
 "metadata": {
  "kernelspec": {
   "display_name": "Python 3 (ipykernel)",
   "language": "python",
   "name": "python3"
  },
  "language_info": {
   "codemirror_mode": {
    "name": "ipython",
    "version": 3
   },
   "file_extension": ".py",
   "mimetype": "text/x-python",
   "name": "python",
   "nbconvert_exporter": "python",
   "pygments_lexer": "ipython3",
   "version": "3.12.5"
  }
 },
 "nbformat": 4,
 "nbformat_minor": 5
}
